{
 "cells": [
  {
   "cell_type": "code",
   "execution_count": null,
   "metadata": {
    "execution": {
     "iopub.execute_input": "2025-04-09T09:18:46.384792Z",
     "iopub.status.busy": "2025-04-09T09:18:46.384380Z",
     "iopub.status.idle": "2025-04-09T09:18:46.392396Z",
     "shell.execute_reply": "2025-04-09T09:18:46.391094Z",
     "shell.execute_reply.started": "2025-04-09T09:18:46.384758Z"
    }
   },
   "outputs": [],
   "source": [
    "import re\n",
    "import random\n",
    "import warnings\n",
    "\n",
    "import numpy as np\n",
    "import pandas as pd\n",
    "import matplotlib.pyplot as plt\n",
    "import seaborn as sns\n",
    "\n",
    "import tensorflow as tf\n",
    "import tensorflow_hub as hub\n",
    "from tensorflow.keras import layers\n",
    "from tensorflow.keras.utils import plot_model\n",
    "\n",
    "from sklearn.model_selection import train_test_split\n",
    "from sklearn.metrics import top_k_accuracy_score, classification_report, precision_recall_fscore_support\n",
    "from sklearn.metrics import accuracy_score, f1_score, matthews_corrcoef\n",
    "from sklearn.metrics import confusion_matrix, mean_absolute_error\n",
    "from scikitplot.metrics import plot_roc"
   ]
  },
  {
   "cell_type": "code",
   "execution_count": null,
   "metadata": {
    "execution": {
     "iopub.execute_input": "2025-04-09T09:18:46.394792Z",
     "iopub.status.busy": "2025-04-09T09:18:46.394423Z",
     "iopub.status.idle": "2025-04-09T09:18:46.408805Z",
     "shell.execute_reply": "2025-04-09T09:18:46.407671Z",
     "shell.execute_reply.started": "2025-04-09T09:18:46.394760Z"
    }
   },
   "outputs": [],
   "source": [
    "warnings.filterwarnings(\"ignore\")\n",
    "plt.style.use('dark_background')"
   ]
  },
  {
   "cell_type": "code",
   "execution_count": 10,
   "metadata": {
    "execution": {
     "iopub.execute_input": "2025-04-09T09:18:46.411113Z",
     "iopub.status.busy": "2025-04-09T09:18:46.410758Z",
     "iopub.status.idle": "2025-04-09T09:18:46.422831Z",
     "shell.execute_reply": "2025-04-09T09:18:46.421755Z",
     "shell.execute_reply.started": "2025-04-09T09:18:46.411082Z"
    }
   },
   "outputs": [],
   "source": [
    "class CFG:\n",
    "    SEED = 768\n",
    "    BATCH_SIZE = 32\n",
    "    EPOCHS = 10"
   ]
  },
  {
   "cell_type": "code",
   "execution_count": 11,
   "metadata": {
    "execution": {
     "iopub.execute_input": "2025-04-09T09:18:46.424687Z",
     "iopub.status.busy": "2025-04-09T09:18:46.424272Z",
     "iopub.status.idle": "2025-04-09T09:18:46.437237Z",
     "shell.execute_reply": "2025-04-09T09:18:46.436016Z",
     "shell.execute_reply.started": "2025-04-09T09:18:46.424653Z"
    }
   },
   "outputs": [],
   "source": [
    "def seed_everything(seed=CFG.SEED):\n",
    "    random.seed(seed)\n",
    "    np.random.seed(seed)\n",
    "    tf.random.set_seed(seed)\n",
    "\n",
    "seed_everything(CFG.SEED)"
   ]
  },
  {
   "cell_type": "markdown",
   "metadata": {},
   "source": [
    "<a id='1'></a>\n",
    "# 1 | Dataset Exploration\n",
    "<div style=\"padding: 4px;color:white;margin:10;font-size:200%;text-align:center;display:fill;border-radius:10px;overflow:hidden;background-image: url(https://i.postimg.cc/fTDmwnkQ/Miaka.png); background-size: 100% auto;\"></div>"
   ]
  },
  {
   "cell_type": "code",
   "execution_count": 41,
   "metadata": {
    "execution": {
     "iopub.execute_input": "2025-04-09T09:22:41.413065Z",
     "iopub.status.busy": "2025-04-09T09:22:41.412685Z",
     "iopub.status.idle": "2025-04-09T09:22:41.418510Z",
     "shell.execute_reply": "2025-04-09T09:22:41.417180Z",
     "shell.execute_reply.started": "2025-04-09T09:22:41.413036Z"
    }
   },
   "outputs": [],
   "source": [
    "# Define paths\n",
    "DATASET_PATH = \"/kaggle/input/sentiment-analysis-company-reviews/\"\n",
    "TRAIN_CSV = '/kaggle/input/sentiment-analysis-company-reviews/train.csv'\n",
    "TEST_CSV = '/kaggle/input/sentiment-analysis-company-reviews/test.csv'\n",
    "SAMPLE_SUB_CSV = '/kaggle/input/sentiment-analysis-company-reviews/sample_submission.csv'"
   ]
  },
  {
   "cell_type": "markdown",
   "metadata": {},
   "source": [
    "### Load CSV Files"
   ]
  },
  {
   "cell_type": "code",
   "execution_count": 42,
   "metadata": {
    "execution": {
     "iopub.execute_input": "2025-04-09T09:22:46.098123Z",
     "iopub.status.busy": "2025-04-09T09:22:46.097722Z",
     "iopub.status.idle": "2025-04-09T09:22:46.676914Z",
     "shell.execute_reply": "2025-04-09T09:22:46.675897Z",
     "shell.execute_reply.started": "2025-04-09T09:22:46.098091Z"
    }
   },
   "outputs": [],
   "source": [
    "# Load the csv files\n",
    "train_df = pd.read_csv(TRAIN_CSV)\n",
    "test_df = pd.read_csv(TEST_CSV)\n",
    "submission_df = pd.read_csv(SAMPLE_SUB_CSV) "
   ]
  },
  {
   "cell_type": "code",
   "execution_count": 43,
   "metadata": {
    "execution": {
     "iopub.execute_input": "2025-04-09T09:22:48.379083Z",
     "iopub.status.busy": "2025-04-09T09:22:48.378235Z",
     "iopub.status.idle": "2025-04-09T09:22:48.400570Z",
     "shell.execute_reply": "2025-04-09T09:22:48.399403Z",
     "shell.execute_reply.started": "2025-04-09T09:22:48.379039Z"
    }
   },
   "outputs": [
    {
     "name": "stdout",
     "output_type": "stream",
     "text": [
      "<class 'pandas.core.frame.DataFrame'>\n",
      "RangeIndex: 60000 entries, 0 to 59999\n",
      "Data columns (total 3 columns):\n",
      " #   Column  Non-Null Count  Dtype \n",
      "---  ------  --------------  ----- \n",
      " 0   Id      60000 non-null  int64 \n",
      " 1   Review  60000 non-null  object\n",
      " 2   Rating  60000 non-null  int64 \n",
      "dtypes: int64(2), object(1)\n",
      "memory usage: 1.4+ MB\n"
     ]
    }
   ],
   "source": [
    "# Generate summary of the training set\n",
    "train_df.info()"
   ]
  },
  {
   "cell_type": "code",
   "execution_count": 44,
   "metadata": {
    "execution": {
     "iopub.execute_input": "2025-04-09T09:22:49.648155Z",
     "iopub.status.busy": "2025-04-09T09:22:49.647750Z",
     "iopub.status.idle": "2025-04-09T09:22:49.659215Z",
     "shell.execute_reply": "2025-04-09T09:22:49.658033Z",
     "shell.execute_reply.started": "2025-04-09T09:22:49.648121Z"
    }
   },
   "outputs": [
    {
     "data": {
      "text/html": [
       "<div>\n",
       "<style scoped>\n",
       "    .dataframe tbody tr th:only-of-type {\n",
       "        vertical-align: middle;\n",
       "    }\n",
       "\n",
       "    .dataframe tbody tr th {\n",
       "        vertical-align: top;\n",
       "    }\n",
       "\n",
       "    .dataframe thead th {\n",
       "        text-align: right;\n",
       "    }\n",
       "</style>\n",
       "<table border=\"1\" class=\"dataframe\">\n",
       "  <thead>\n",
       "    <tr style=\"text-align: right;\">\n",
       "      <th></th>\n",
       "      <th>Id</th>\n",
       "      <th>Review</th>\n",
       "      <th>Rating</th>\n",
       "    </tr>\n",
       "  </thead>\n",
       "  <tbody>\n",
       "    <tr>\n",
       "      <th>0</th>\n",
       "      <td>0</td>\n",
       "      <td>Very good value and a great tv very happy and ...</td>\n",
       "      <td>5</td>\n",
       "    </tr>\n",
       "    <tr>\n",
       "      <th>1</th>\n",
       "      <td>1</td>\n",
       "      <td>After 6 month still can't access my account</td>\n",
       "      <td>3</td>\n",
       "    </tr>\n",
       "    <tr>\n",
       "      <th>2</th>\n",
       "      <td>2</td>\n",
       "      <td>I couldn't make an official review on a produc...</td>\n",
       "      <td>1</td>\n",
       "    </tr>\n",
       "    <tr>\n",
       "      <th>3</th>\n",
       "      <td>3</td>\n",
       "      <td>Fantastic! Extremely easy to use website, fant...</td>\n",
       "      <td>5</td>\n",
       "    </tr>\n",
       "    <tr>\n",
       "      <th>4</th>\n",
       "      <td>4</td>\n",
       "      <td>So far annoyed as hell with this bt monthly pa...</td>\n",
       "      <td>1</td>\n",
       "    </tr>\n",
       "  </tbody>\n",
       "</table>\n",
       "</div>"
      ],
      "text/plain": [
       "   Id                                             Review  Rating\n",
       "0   0  Very good value and a great tv very happy and ...       5\n",
       "1   1        After 6 month still can't access my account       3\n",
       "2   2  I couldn't make an official review on a produc...       1\n",
       "3   3  Fantastic! Extremely easy to use website, fant...       5\n",
       "4   4  So far annoyed as hell with this bt monthly pa...       1"
      ]
     },
     "execution_count": 44,
     "metadata": {},
     "output_type": "execute_result"
    }
   ],
   "source": [
    "# View first 5 training samples\n",
    "train_df.head(5)"
   ]
  },
  {
   "cell_type": "markdown",
   "metadata": {},
   "source": [
    "<a id='1.2'></a>\n",
    "### View Random Selected Samples"
   ]
  },
  {
   "cell_type": "code",
   "execution_count": 45,
   "metadata": {
    "execution": {
     "iopub.execute_input": "2025-04-09T09:22:53.843146Z",
     "iopub.status.busy": "2025-04-09T09:22:53.842732Z",
     "iopub.status.idle": "2025-04-09T09:22:53.849652Z",
     "shell.execute_reply": "2025-04-09T09:22:53.848331Z",
     "shell.execute_reply.started": "2025-04-09T09:22:53.843116Z"
    }
   },
   "outputs": [],
   "source": [
    "def view_samples(df, count=5):\n",
    "    idx = random.sample(train_df.index.to_list(), count)\n",
    "    print('=========================================\\n')\n",
    "    for _ in idx:\n",
    "        print(f'id:\\t{df.Id[_]}\\n')\n",
    "        print(f'Review:\\n{df.Review[_]}\\n')\n",
    "        print(f'Rating:\\n{df.Rating[_]}')\n",
    "        print('=========================================\\n')"
   ]
  },
  {
   "cell_type": "code",
   "execution_count": 17,
   "metadata": {
    "execution": {
     "iopub.execute_input": "2025-04-09T09:18:47.482556Z",
     "iopub.status.busy": "2025-04-09T09:18:47.482185Z",
     "iopub.status.idle": "2025-04-09T09:18:47.500813Z",
     "shell.execute_reply": "2025-04-09T09:18:47.499573Z",
     "shell.execute_reply.started": "2025-04-09T09:18:47.482524Z"
    }
   },
   "outputs": [
    {
     "name": "stdout",
     "output_type": "stream",
     "text": [
      "=========================================\n",
      "\n",
      "id:\t5732\n",
      "\n",
      "Review:\n",
      "Easy to use, quick delivery and excellent quality prints.\n",
      "\n",
      "Rating:\n",
      "5\n",
      "=========================================\n",
      "\n",
      "id:\t17207\n",
      "\n",
      "Review:\n",
      "Great site, sold dozens of accounts on it, and always get my money for sales.\n",
      "\n",
      "Rating:\n",
      "5\n",
      "=========================================\n",
      "\n",
      "id:\t29922\n",
      "\n",
      "Review:\n",
      "Clear info on website, good delivery and product was exactly what I was looking for.\n",
      "\n",
      "Rating:\n",
      "5\n",
      "=========================================\n",
      "\n",
      "id:\t19055\n",
      "\n",
      "Review:\n",
      "I have tried to get a contract with them, and for some reason I am not eligible\n",
      "\n",
      "I asked them to give me more details and they replied\n",
      "\n",
      "-you’re are not registered on the Electoral list\n",
      "\n",
      "This is a bit weird to be honest....\n",
      "\n",
      "Rating:\n",
      "1\n",
      "=========================================\n",
      "\n",
      "id:\t58751\n",
      "\n",
      "Review:\n",
      "I ordered a laptop on the 3rd May configured to my requirements. On the 4th I received an email telling me there was no stock of the chassis I'd chosen despite it still being shown as available on their website.\n",
      "On the 5th of May I chose another chassis at the additional cost of £20. The order went through and was delivered by DPD on the 10th May.\n",
      "I connected the laptop to the mains and at first it refused to boot. After a while it did boot after some keyboard flashing and I loaded my apps etc. although I was a bit concerned. On the 11th I went on holiday and got to my destination. Tried to switch the laptop on and it was dead all apart from random flashing of parts of the keyboard but the power charging light was lit.\n",
      "On the 13th of May it was picked up for return.\n",
      "PCS didn't book the laptop back in until the 17th May.\n",
      "On the 19th I received a fault report by email claiming the power supply was faulty which it clearly was not (I've BSc in Electrical and Electronic Engineering and know a dead power supply when I see one).\n",
      "The laptop was re delivered with a new power supply on the 20th May. I plugged it in, waited for it to charge and the self same fault was evident. Dead with flashing random keys.\n",
      "On Monday 23rd of May I formally rejected the laptop Under the Consumer Rights Act 2015 as not fit for purpose. I clearly stated I wanted a full refund or a brand new replacement. PCS offered a new replacement. I accepted the replacement. The faulty laptop was collected on 25th of May and I was advised my new laptop was in build. After hearing nothing from PCS I called this morning 30th May. After a few hours I was advised my new laptop was ready for dispatch but wouldn't be shipped until they'd booked in the old one. Their courier DPD has had it in their Birmingham no 3 depot and it hasn't moved since the 25th May. I had to find this out myself and tell PCS! PCS want me to wait on the off chance that DPD find the parcel and get it to them all the while holding my money for nearly a month now. They have refused to ship my new laptop until they have the defective one back but no one is chasing DPD it would seem as they didn't know where it was.\n",
      "It's their courier and their contract and they should sort it out and give me the laptop I paid for.\n",
      "At 4pm today I emailed customer services and copied Danny Williams their Director with two options. Ship my laptop or refund me in full. If neither is forthcoming I will seek redress through the small claims court process.\n",
      "Things to know about PCS:-\n",
      "1, Customer services aren't fit for purpose.\n",
      "2, A supervisor or member of the management team isn't ever available to speak to should you ask. A deliberate ploy used by many customer services tbh.\n",
      "3, Getting information out of them requires masses of emails, phone calls and luck.\n",
      "4, Problems with their contracted shipper becomes your problem. They don't seem to want to get involved.\n",
      "5, There is no one who will own your problem and sort things out so each time your ring it's a different person who knows nothing of the problem you have and needs to start the investigation all over again.\n",
      "This has been by far the worst consumer experience I've had in 60 years. I would avoid PCS at all costs as my family and friends will. They don't appear to give jot about their customers and don't understand the term ' Customer Service'.\n",
      "\n",
      "Rating:\n",
      "1\n",
      "=========================================\n",
      "\n"
     ]
    }
   ],
   "source": [
    "# View 5 randomly selected samples\n",
    "view_samples(train_df, count=5)"
   ]
  },
  {
   "cell_type": "code",
   "execution_count": 1,
   "metadata": {},
   "outputs": [
    {
     "name": "stdout",
     "output_type": "stream",
     "text": [
      "TF-IDF Features:\n",
      "    access  account  annoyed  easy  extremely  fantastic      good     great  \\\n",
      "0  0.00000  0.00000      0.0   0.0        0.0        0.0  0.447214  0.447214   \n",
      "1  0.57735  0.57735      0.0   0.0        0.0        0.0  0.000000  0.000000   \n",
      "2  0.00000  0.00000      0.0   0.5        0.5        0.5  0.000000  0.000000   \n",
      "3  0.00000  0.00000      0.5   0.0        0.0        0.0  0.000000  0.000000   \n",
      "\n",
      "      happy    month  monthly  payment  plan        tv     value  website  \n",
      "0  0.447214  0.00000      0.0      0.0   0.0  0.447214  0.447214      0.0  \n",
      "1  0.000000  0.57735      0.0      0.0   0.0  0.000000  0.000000      0.0  \n",
      "2  0.000000  0.00000      0.0      0.0   0.0  0.000000  0.000000      0.5  \n",
      "3  0.000000  0.00000      0.5      0.5   0.5  0.000000  0.000000      0.0  \n"
     ]
    }
   ],
   "source": [
    "import pandas as pd\n",
    "import numpy as np\n",
    "from sklearn.feature_extraction.text import TfidfVectorizer\n",
    "from sklearn.decomposition import PCA\n",
    "from sklearn.cluster import KMeans\n",
    "import matplotlib.pyplot as plt\n",
    "import seaborn as sns\n",
    "\n",
    "# Sample processed data (replace this with your processed DataFrame)\n",
    "data = {\n",
    "    'Review': [\n",
    "        'good value great tv happy',\n",
    "        'month still cannot access account',\n",
    "        'fantastic extremely easy website',\n",
    "        'annoyed monthly payment plan'\n",
    "    ],\n",
    "    'Rating': [5, 2, 5, 1]\n",
    "}\n",
    "\n",
    "df = pd.DataFrame(data)\n",
    "\n",
    "# TF-IDF Vectorization\n",
    "vectorizer = TfidfVectorizer(max_features=50, stop_words='english')\n",
    "tfidf_matrix = vectorizer.fit_transform(df['Review'])\n",
    "\n",
    "# Convert to DataFrame for easier handling\n",
    "tfidf_df = pd.DataFrame(tfidf_matrix.toarray(), columns=vectorizer.get_feature_names_out())\n",
    "\n",
    "print(\"TF-IDF Features:\")\n",
    "print(tfidf_df.head())\n"
   ]
  },
  {
   "cell_type": "code",
   "execution_count": 3,
   "metadata": {},
   "outputs": [
    {
     "data": {
      "image/png": "[encoded data removed]",
      "text/plain": [
       "<Figure size 800x500 with 1 Axes>"
      ]
     },
     "metadata": {},
     "output_type": "display_data"
    }
   ],
   "source": [
    "# Apply PCA to reduce dimensions\n",
    "pca = PCA(n_components=2)\n",
    "reduced_features = pca.fit_transform(tfidf_df)\n",
    "\n",
    "# Visualize PCA result\n",
    "plt.figure(figsize=(8, 5))\n",
    "sns.scatterplot(x=reduced_features[:,0], y=reduced_features[:,1], hue=df['Rating'], palette='viridis', s=100)\n",
    "plt.title('PCA of TF-IDF Features')\n",
    "plt.xlabel('Principal Component 1')\n",
    "plt.ylabel('Principal Component 2')\n",
    "plt.legend(title='Rating')\n",
    "plt.show()\n"
   ]
  },
  {
   "cell_type": "markdown",
   "metadata": {},
   "source": [
    "<a id='1.3'></a>\n",
    "### View Train Rating Distribution"
   ]
  },
  {
   "cell_type": "code",
   "execution_count": 18,
   "metadata": {
    "execution": {
     "iopub.execute_input": "2025-04-09T09:18:47.503101Z",
     "iopub.status.busy": "2025-04-09T09:18:47.502309Z",
     "iopub.status.idle": "2025-04-09T09:18:47.752950Z",
     "shell.execute_reply": "2025-04-09T09:18:47.751847Z",
     "shell.execute_reply.started": "2025-04-09T09:18:47.503052Z"
    }
   },
   "outputs": [
    {
     "data": {
      "image/png": "[encoded data removed]",
      "text/plain": [
       "<Figure size 1080x576 with 1 Axes>"
      ]
     },
     "metadata": {},
     "output_type": "display_data"
    }
   ],
   "source": [
    "# View Train Rating Distribution\n",
    "plt.figure(figsize=(15, 8))\n",
    "plt.title('Train Rating Distribution', fontsize=20)\n",
    "\n",
    "train_distribution = train_df['Rating'].value_counts().sort_values()\n",
    "sns.barplot(x=list(train_distribution.keys()),\n",
    "            y=train_distribution.values);\n",
    "\n",
    "sns.despine();"
   ]
  },
  {
   "cell_type": "markdown",
   "metadata": {},
   "source": [
    "<div class=\"alert alert-block alert-info\">\n",
    "<br>\n",
    "We observe that <b>the dataset is severly imbalanced</b> with review with ratings of 1 and 5 make up the majority of the dataset's reviews. Techniques such as undersampling, oversampling or weighted training should be considered. However, this notebook will only focus on the baseline model and will not cover the implementation of these techniques. It should be noted that this behavior in the data is most likely representative of customer behavior (customers would rather give a rating of 1 or 5 and ratings in between siginify mixed opinions). \n",
    "</div>"
   ]
  },
  {
   "cell_type": "markdown",
   "metadata": {},
   "source": [
    "<a id='1.4'></a>\n",
    "### Inspect Review Lengths & Tokens"
   ]
  },
  {
   "cell_type": "code",
   "execution_count": 19,
   "metadata": {
    "execution": {
     "iopub.execute_input": "2025-04-09T09:18:47.755445Z",
     "iopub.status.busy": "2025-04-09T09:18:47.755104Z",
     "iopub.status.idle": "2025-04-09T09:18:48.046968Z",
     "shell.execute_reply": "2025-04-09T09:18:48.045914Z",
     "shell.execute_reply.started": "2025-04-09T09:18:47.755414Z"
    }
   },
   "outputs": [],
   "source": [
    "# Get the lengths of each review\n",
    "train_df['review_length'] = [len(_) for _ in train_df.Review]\n",
    "\n",
    "# Get the number of tokens per review \n",
    "train_df['token_count'] = [len(_.split()) for _ in train_df.Review]"
   ]
  },
  {
   "cell_type": "code",
   "execution_count": 20,
   "metadata": {
    "execution": {
     "iopub.execute_input": "2025-04-09T09:18:48.048920Z",
     "iopub.status.busy": "2025-04-09T09:18:48.048578Z",
     "iopub.status.idle": "2025-04-09T09:18:48.061523Z",
     "shell.execute_reply": "2025-04-09T09:18:48.060194Z",
     "shell.execute_reply.started": "2025-04-09T09:18:48.048891Z"
    }
   },
   "outputs": [
    {
     "data": {
      "text/html": [
       "<div>\n",
       "<style scoped>\n",
       "    .dataframe tbody tr th:only-of-type {\n",
       "        vertical-align: middle;\n",
       "    }\n",
       "\n",
       "    .dataframe tbody tr th {\n",
       "        vertical-align: top;\n",
       "    }\n",
       "\n",
       "    .dataframe thead th {\n",
       "        text-align: right;\n",
       "    }\n",
       "</style>\n",
       "<table border=\"1\" class=\"dataframe\">\n",
       "  <thead>\n",
       "    <tr style=\"text-align: right;\">\n",
       "      <th></th>\n",
       "      <th>Id</th>\n",
       "      <th>Review</th>\n",
       "      <th>Rating</th>\n",
       "      <th>review_length</th>\n",
       "      <th>token_count</th>\n",
       "    </tr>\n",
       "  </thead>\n",
       "  <tbody>\n",
       "    <tr>\n",
       "      <th>0</th>\n",
       "      <td>0</td>\n",
       "      <td>Very good value and a great tv very happy and ...</td>\n",
       "      <td>5</td>\n",
       "      <td>89</td>\n",
       "      <td>18</td>\n",
       "    </tr>\n",
       "    <tr>\n",
       "      <th>1</th>\n",
       "      <td>1</td>\n",
       "      <td>After 6 month still can't access my account</td>\n",
       "      <td>3</td>\n",
       "      <td>43</td>\n",
       "      <td>8</td>\n",
       "    </tr>\n",
       "    <tr>\n",
       "      <th>2</th>\n",
       "      <td>2</td>\n",
       "      <td>I couldn't make an official review on a produc...</td>\n",
       "      <td>1</td>\n",
       "      <td>496</td>\n",
       "      <td>92</td>\n",
       "    </tr>\n",
       "    <tr>\n",
       "      <th>3</th>\n",
       "      <td>3</td>\n",
       "      <td>Fantastic! Extremely easy to use website, fant...</td>\n",
       "      <td>5</td>\n",
       "      <td>197</td>\n",
       "      <td>32</td>\n",
       "    </tr>\n",
       "    <tr>\n",
       "      <th>4</th>\n",
       "      <td>4</td>\n",
       "      <td>So far annoyed as hell with this bt monthly pa...</td>\n",
       "      <td>1</td>\n",
       "      <td>222</td>\n",
       "      <td>49</td>\n",
       "    </tr>\n",
       "  </tbody>\n",
       "</table>\n",
       "</div>"
      ],
      "text/plain": [
       "   Id                                             Review  Rating  \\\n",
       "0   0  Very good value and a great tv very happy and ...       5   \n",
       "1   1        After 6 month still can't access my account       3   \n",
       "2   2  I couldn't make an official review on a produc...       1   \n",
       "3   3  Fantastic! Extremely easy to use website, fant...       5   \n",
       "4   4  So far annoyed as hell with this bt monthly pa...       1   \n",
       "\n",
       "   review_length  token_count  \n",
       "0             89           18  \n",
       "1             43            8  \n",
       "2            496           92  \n",
       "3            197           32  \n",
       "4            222           49  "
      ]
     },
     "execution_count": 20,
     "metadata": {},
     "output_type": "execute_result"
    }
   ],
   "source": [
    "# View first 5 samples \n",
    "train_df.head(5)"
   ]
  },
  {
   "cell_type": "code",
   "execution_count": 21,
   "metadata": {
    "execution": {
     "iopub.execute_input": "2025-04-09T09:18:48.063376Z",
     "iopub.status.busy": "2025-04-09T09:18:48.063008Z",
     "iopub.status.idle": "2025-04-09T09:18:48.083992Z",
     "shell.execute_reply": "2025-04-09T09:18:48.082515Z",
     "shell.execute_reply.started": "2025-04-09T09:18:48.063343Z"
    }
   },
   "outputs": [
    {
     "name": "stdout",
     "output_type": "stream",
     "text": [
      "Review Length Description\n",
      "==================================\n",
      "count    60000.000000\n",
      "mean       309.070083\n",
      "std        423.772492\n",
      "min         31.000000\n",
      "25%         82.000000\n",
      "50%        164.000000\n",
      "75%        358.000000\n",
      "max       7794.000000\n",
      "Name: review_length, dtype: float64\n",
      "==================================\n"
     ]
    }
   ],
   "source": [
    "# Inspect Review Length Stats\n",
    "print('Review Length Description')\n",
    "print('==================================')\n",
    "print(train_df['review_length'].describe())\n",
    "print('==================================')"
   ]
  },
  {
   "cell_type": "code",
   "execution_count": 22,
   "metadata": {
    "execution": {
     "iopub.execute_input": "2025-04-09T09:18:48.085964Z",
     "iopub.status.busy": "2025-04-09T09:18:48.085506Z",
     "iopub.status.idle": "2025-04-09T09:18:48.100967Z",
     "shell.execute_reply": "2025-04-09T09:18:48.099697Z",
     "shell.execute_reply.started": "2025-04-09T09:18:48.085921Z"
    }
   },
   "outputs": [
    {
     "name": "stdout",
     "output_type": "stream",
     "text": [
      "Token Count Description\n",
      "==================================\n",
      "count    60000.00000\n",
      "mean        56.56325\n",
      "std         79.35289\n",
      "min          1.00000\n",
      "25%         14.00000\n",
      "50%         29.00000\n",
      "75%         66.00000\n",
      "max       1439.00000\n",
      "Name: token_count, dtype: float64\n",
      "==================================\n"
     ]
    }
   ],
   "source": [
    "# Inspect Token Count Stats\n",
    "print('Token Count Description')\n",
    "print('==================================')\n",
    "print(train_df['token_count'].describe())\n",
    "print('==================================')"
   ]
  },
  {
   "cell_type": "code",
   "execution_count": 23,
   "metadata": {
    "execution": {
     "iopub.execute_input": "2025-04-09T09:18:48.106610Z",
     "iopub.status.busy": "2025-04-09T09:18:48.106153Z",
     "iopub.status.idle": "2025-04-09T09:18:48.664093Z",
     "shell.execute_reply": "2025-04-09T09:18:48.662942Z",
     "shell.execute_reply.started": "2025-04-09T09:18:48.106551Z"
    }
   },
   "outputs": [
    {
     "data": {
      "image/png": "[encoded data removed]",
      "text/plain": [
       "<Figure size 1008x1296 with 2 Axes>"
      ]
     },
     "metadata": {},
     "output_type": "display_data"
    }
   ],
   "source": [
    "fig, (ax1, ax2) = plt.subplots(2, figsize=(14, 18))\n",
    "\n",
    "# Set the spacing between subplots\n",
    "fig.tight_layout(pad=6.0)\n",
    "\n",
    "# Plot Range of Review Lengths per Rating\n",
    "ax1.set_title('Review Lengths per Rating', fontsize=20)\n",
    "sns.boxplot(data=train_df, y='review_length', x='Rating',\n",
    "            ax=ax1)\n",
    "ax1.set_xlabel('Rating', fontsize=14)\n",
    "ax1.set_ylabel('review_length', fontsize=14)\n",
    "sns.despine();\n",
    "\n",
    "# Plot Range of Token Counts per Rating\n",
    "ax2.set_title('Token Counts per Rating', fontsize=20)\n",
    "sns.boxplot(data=train_df, y='token_count', x='Rating',\n",
    "            ax=ax2);\n",
    "ax2.set_xlabel('Rating', fontsize=14)\n",
    "ax2.set_ylabel('token_count', fontsize=14)\n",
    "sns.despine();"
   ]
  },
  {
   "cell_type": "markdown",
   "metadata": {},
   "source": [
    "<div class=\"alert alert-block alert-info\">\n",
    "<br>\n",
    "We observe that the length of the reviews increase the more unsatisfied the customers are with the companies. The same observation can be made for the number of tokens per review. The reason for this may be that customers tend to explain or describe their opinions/experiences in great detail the more unsatisfied they are with the companies. This reason may also explain why reviews with higher ratings are generally shorter with less tokens present as this signifies satification amongst customers.\n",
    "</div>"
   ]
  },
  {
   "cell_type": "markdown",
   "metadata": {},
   "source": [
    "<a id='1.5'></a>\n",
    "### View Review Lengths & Review Token Count Histograms"
   ]
  },
  {
   "cell_type": "code",
   "execution_count": 24,
   "metadata": {
    "execution": {
     "iopub.execute_input": "2025-04-09T09:18:48.666740Z",
     "iopub.status.busy": "2025-04-09T09:18:48.665709Z",
     "iopub.status.idle": "2025-04-09T09:18:49.279662Z",
     "shell.execute_reply": "2025-04-09T09:18:49.278392Z",
     "shell.execute_reply.started": "2025-04-09T09:18:48.666687Z"
    }
   },
   "outputs": [
    {
     "data": {
      "image/png": "[encoded data removed]",
      "text/plain": [
       "<Figure size 1008x720 with 2 Axes>"
      ]
     },
     "metadata": {},
     "output_type": "display_data"
    }
   ],
   "source": [
    "fig, (ax1, ax2) = plt.subplots(2, figsize=(14, 10))\n",
    "\n",
    "# Set the spacing between subplots\n",
    "fig.tight_layout(pad=6.0)\n",
    "\n",
    "# Generate Train Rating Histogram\n",
    "ax1.set_title('Train Review Length Histogram', fontsize=20)\n",
    "sns.histplot(data=train_df, x='review_length', bins=50,\n",
    "            ax=ax1)\n",
    "ax1.set_xlabel('review_length', fontsize=14)\n",
    "ax1.set_ylabel('Count', fontsize=14)\n",
    "sns.despine();\n",
    "\n",
    "# Generate Train Token Count Histogram\n",
    "ax2.set_title('Train Token Count Histogram', fontsize=20)\n",
    "sns.histplot(data=train_df, x='token_count', bins=50,\n",
    "            ax=ax2)\n",
    "ax2.set_xlabel('token_count', fontsize=14)\n",
    "ax2.set_ylabel('Count', fontsize=14)\n",
    "sns.despine();"
   ]
  },
  {
   "cell_type": "markdown",
   "metadata": {},
   "source": [
    "<div class=\"alert alert-block alert-info\">\n",
    "<br>\n",
    "We observe that the majority of review lengths are under a length of ~1000. We also observe that the review token counts are generally under ~300 tokens. These factors should be considered when selecting the number of tokens to be used in a model. Selecting the number of tokens to be used in model via percentiles may prove to be helpful. However, this will not be covered in this notebook.\n",
    "</div>"
   ]
  },
  {
   "cell_type": "markdown",
   "metadata": {},
   "source": [
    "<center><div style='color:#ffffff;\n",
    "           display:inline-block;\n",
    "           padding: 5px 5px 5px 5px;\n",
    "           border-radius:5px;\n",
    "           background-color:#03e3fc;\n",
    "           font-size:100%;'><a href=#toc style='text-decoration: none; color:#03001C;'>⬆️ Back To Top</a></div></center>\n",
    "\n",
    "<a id='2'></a>\n",
    "# 2 | Data Preprocessing\n",
    "<div style=\"padding: 4px;color:white;margin:10;font-size:200%;text-align:center;display:fill;border-radius:10px;overflow:hidden;background-image: url(https://i.postimg.cc/fTDmwnkQ/Miaka.png); background-size: 100% auto;\"></div>\n",
    "\n",
    "<a id='2.1'></a>\n",
    "### Label Encode Ratings\n",
    "\n",
    "We need to label encode the ratings since all ratings fall in the range between 1 and 5 inclusively. To achieve this we simply shift the ratings by subtracting 1 from each rating (e.g. 5 -> 4). We do this in order to simplify the one-hot encoding process at a later stage."
   ]
  },
  {
   "cell_type": "code",
   "execution_count": 25,
   "metadata": {
    "execution": {
     "iopub.execute_input": "2025-04-09T09:18:49.281712Z",
     "iopub.status.busy": "2025-04-09T09:18:49.281256Z",
     "iopub.status.idle": "2025-04-09T09:18:49.288708Z",
     "shell.execute_reply": "2025-04-09T09:18:49.287557Z",
     "shell.execute_reply.started": "2025-04-09T09:18:49.281668Z"
    }
   },
   "outputs": [],
   "source": [
    "# Label encode ratings\n",
    "train_df[\"rating_encoded\"] = train_df['Rating'] - 1"
   ]
  },
  {
   "cell_type": "markdown",
   "metadata": {},
   "source": [
    "<a id='2.2'></a>\n",
    "### Create Train/Validation Split"
   ]
  },
  {
   "cell_type": "code",
   "execution_count": 26,
   "metadata": {
    "execution": {
     "iopub.execute_input": "2025-04-09T09:18:49.290538Z",
     "iopub.status.busy": "2025-04-09T09:18:49.290244Z",
     "iopub.status.idle": "2025-04-09T09:18:49.327074Z",
     "shell.execute_reply": "2025-04-09T09:18:49.326039Z",
     "shell.execute_reply.started": "2025-04-09T09:18:49.290511Z"
    }
   },
   "outputs": [],
   "source": [
    "# Get indices for train and validation splits\n",
    "train_idx, val_idx, _, _ = train_test_split(\n",
    "    train_df.index, train_df.Rating, \n",
    "    test_size=0.2, stratify=train_df.Rating,\n",
    "    random_state=CFG.SEED\n",
    ")"
   ]
  },
  {
   "cell_type": "code",
   "execution_count": 27,
   "metadata": {
    "execution": {
     "iopub.execute_input": "2025-04-09T09:18:49.328815Z",
     "iopub.status.busy": "2025-04-09T09:18:49.328435Z",
     "iopub.status.idle": "2025-04-09T09:18:49.352771Z",
     "shell.execute_reply": "2025-04-09T09:18:49.351575Z",
     "shell.execute_reply.started": "2025-04-09T09:18:49.328778Z"
    }
   },
   "outputs": [
    {
     "data": {
      "text/plain": [
       "((48000, 6), (12000, 6))"
      ]
     },
     "execution_count": 27,
     "metadata": {},
     "output_type": "execute_result"
    }
   ],
   "source": [
    "# Get new training and validation data\n",
    "train_new_df = train_df.iloc[train_idx].reset_index(drop=True)\n",
    "val_df = train_df.iloc[val_idx].reset_index(drop=True)\n",
    "\n",
    "# View shapes\n",
    "train_new_df.shape, val_df.shape"
   ]
  },
  {
   "cell_type": "code",
   "execution_count": 28,
   "metadata": {
    "execution": {
     "iopub.execute_input": "2025-04-09T09:18:49.354405Z",
     "iopub.status.busy": "2025-04-09T09:18:49.354058Z",
     "iopub.status.idle": "2025-04-09T09:18:49.370171Z",
     "shell.execute_reply": "2025-04-09T09:18:49.369083Z",
     "shell.execute_reply.started": "2025-04-09T09:18:49.354374Z"
    }
   },
   "outputs": [
    {
     "data": {
      "text/html": [
       "<div>\n",
       "<style scoped>\n",
       "    .dataframe tbody tr th:only-of-type {\n",
       "        vertical-align: middle;\n",
       "    }\n",
       "\n",
       "    .dataframe tbody tr th {\n",
       "        vertical-align: top;\n",
       "    }\n",
       "\n",
       "    .dataframe thead th {\n",
       "        text-align: right;\n",
       "    }\n",
       "</style>\n",
       "<table border=\"1\" class=\"dataframe\">\n",
       "  <thead>\n",
       "    <tr style=\"text-align: right;\">\n",
       "      <th></th>\n",
       "      <th>Id</th>\n",
       "      <th>Review</th>\n",
       "      <th>Rating</th>\n",
       "      <th>review_length</th>\n",
       "      <th>token_count</th>\n",
       "      <th>rating_encoded</th>\n",
       "    </tr>\n",
       "  </thead>\n",
       "  <tbody>\n",
       "    <tr>\n",
       "      <th>0</th>\n",
       "      <td>7372</td>\n",
       "      <td>Straight forward purchase from trusted supplie...</td>\n",
       "      <td>5</td>\n",
       "      <td>80</td>\n",
       "      <td>12</td>\n",
       "      <td>4</td>\n",
       "    </tr>\n",
       "    <tr>\n",
       "      <th>1</th>\n",
       "      <td>36260</td>\n",
       "      <td>Website is super smooth and easy to navigate w...</td>\n",
       "      <td>5</td>\n",
       "      <td>118</td>\n",
       "      <td>21</td>\n",
       "      <td>4</td>\n",
       "    </tr>\n",
       "    <tr>\n",
       "      <th>2</th>\n",
       "      <td>33497</td>\n",
       "      <td>Apparently it was posted twice, maybe it will ...</td>\n",
       "      <td>1</td>\n",
       "      <td>150</td>\n",
       "      <td>26</td>\n",
       "      <td>0</td>\n",
       "    </tr>\n",
       "    <tr>\n",
       "      <th>3</th>\n",
       "      <td>36775</td>\n",
       "      <td>Order received the day after order. Memory upg...</td>\n",
       "      <td>5</td>\n",
       "      <td>94</td>\n",
       "      <td>15</td>\n",
       "      <td>4</td>\n",
       "    </tr>\n",
       "    <tr>\n",
       "      <th>4</th>\n",
       "      <td>49630</td>\n",
       "      <td>Its great, in a contract with them for 30GB fo...</td>\n",
       "      <td>5</td>\n",
       "      <td>162</td>\n",
       "      <td>27</td>\n",
       "      <td>4</td>\n",
       "    </tr>\n",
       "    <tr>\n",
       "      <th>...</th>\n",
       "      <td>...</td>\n",
       "      <td>...</td>\n",
       "      <td>...</td>\n",
       "      <td>...</td>\n",
       "      <td>...</td>\n",
       "      <td>...</td>\n",
       "    </tr>\n",
       "    <tr>\n",
       "      <th>47995</th>\n",
       "      <td>40748</td>\n",
       "      <td>I have made 2 purchases with PCSPECIALIST in t...</td>\n",
       "      <td>5</td>\n",
       "      <td>91</td>\n",
       "      <td>17</td>\n",
       "      <td>4</td>\n",
       "    </tr>\n",
       "    <tr>\n",
       "      <th>47996</th>\n",
       "      <td>33270</td>\n",
       "      <td>Matress is amazing- thank you\\nYet again deliv...</td>\n",
       "      <td>2</td>\n",
       "      <td>402</td>\n",
       "      <td>78</td>\n",
       "      <td>1</td>\n",
       "    </tr>\n",
       "    <tr>\n",
       "      <th>47997</th>\n",
       "      <td>16802</td>\n",
       "      <td>Gtech have a great product I always buy from t...</td>\n",
       "      <td>5</td>\n",
       "      <td>134</td>\n",
       "      <td>25</td>\n",
       "      <td>4</td>\n",
       "    </tr>\n",
       "    <tr>\n",
       "      <th>47998</th>\n",
       "      <td>37531</td>\n",
       "      <td>Quick delivery, competitive price</td>\n",
       "      <td>5</td>\n",
       "      <td>33</td>\n",
       "      <td>4</td>\n",
       "      <td>4</td>\n",
       "    </tr>\n",
       "    <tr>\n",
       "      <th>47999</th>\n",
       "      <td>13469</td>\n",
       "      <td>Signed up to get broadband installed originall...</td>\n",
       "      <td>1</td>\n",
       "      <td>697</td>\n",
       "      <td>133</td>\n",
       "      <td>0</td>\n",
       "    </tr>\n",
       "  </tbody>\n",
       "</table>\n",
       "<p>48000 rows × 6 columns</p>\n",
       "</div>"
      ],
      "text/plain": [
       "          Id                                             Review  Rating  \\\n",
       "0       7372  Straight forward purchase from trusted supplie...       5   \n",
       "1      36260  Website is super smooth and easy to navigate w...       5   \n",
       "2      33497  Apparently it was posted twice, maybe it will ...       1   \n",
       "3      36775  Order received the day after order. Memory upg...       5   \n",
       "4      49630  Its great, in a contract with them for 30GB fo...       5   \n",
       "...      ...                                                ...     ...   \n",
       "47995  40748  I have made 2 purchases with PCSPECIALIST in t...       5   \n",
       "47996  33270  Matress is amazing- thank you\\nYet again deliv...       2   \n",
       "47997  16802  Gtech have a great product I always buy from t...       5   \n",
       "47998  37531                  Quick delivery, competitive price       5   \n",
       "47999  13469  Signed up to get broadband installed originall...       1   \n",
       "\n",
       "       review_length  token_count  rating_encoded  \n",
       "0                 80           12               4  \n",
       "1                118           21               4  \n",
       "2                150           26               0  \n",
       "3                 94           15               4  \n",
       "4                162           27               4  \n",
       "...              ...          ...             ...  \n",
       "47995             91           17               4  \n",
       "47996            402           78               1  \n",
       "47997            134           25               4  \n",
       "47998             33            4               4  \n",
       "47999            697          133               0  \n",
       "\n",
       "[48000 rows x 6 columns]"
      ]
     },
     "execution_count": 28,
     "metadata": {},
     "output_type": "execute_result"
    }
   ],
   "source": [
    "# View new train dataframe\n",
    "train_new_df"
   ]
  },
  {
   "cell_type": "markdown",
   "metadata": {},
   "source": [
    "<a id='2.3'></a>\n",
    "### View Train & Validation Rating Distributions"
   ]
  },
  {
   "cell_type": "code",
   "execution_count": 29,
   "metadata": {
    "execution": {
     "iopub.execute_input": "2025-04-09T09:18:49.371941Z",
     "iopub.status.busy": "2025-04-09T09:18:49.371607Z",
     "iopub.status.idle": "2025-04-09T09:18:49.745600Z",
     "shell.execute_reply": "2025-04-09T09:18:49.744433Z",
     "shell.execute_reply.started": "2025-04-09T09:18:49.371912Z"
    }
   },
   "outputs": [
    {
     "data": {
      "image/png": "[encoded data removed]",
      "text/plain": [
       "<Figure size 1008x720 with 2 Axes>"
      ]
     },
     "metadata": {},
     "output_type": "display_data"
    }
   ],
   "source": [
    "fig, (ax1, ax2) = plt.subplots(2, figsize=(14, 10))\n",
    "\n",
    "# Set the spacing between subplots\n",
    "fig.tight_layout(pad=6.0)\n",
    "\n",
    "# Plot New Train Ratings Distribution\n",
    "ax1.set_title('New Train Ratings Distribution', fontsize=20)\n",
    "train_new_distribution = train_new_df['Rating'].value_counts().sort_values()\n",
    "sns.barplot(x=train_new_distribution.values,\n",
    "            y=list(train_new_distribution.keys()),\n",
    "            orient=\"h\",\n",
    "            ax=ax1)\n",
    "sns.despine();\n",
    "\n",
    "# Plot Validation Ratings Distribution\n",
    "ax2.set_title('Validation Ratings Distribution', fontsize=20)\n",
    "val_distribution = val_df['Rating'].value_counts().sort_values()\n",
    "sns.barplot(x=val_distribution.values,\n",
    "            y=list(val_distribution.keys()),\n",
    "            orient=\"h\",\n",
    "            ax=ax2);\n",
    "sns.despine();"
   ]
  },
  {
   "cell_type": "markdown",
   "metadata": {},
   "source": [
    "<a id='3.1'></a>\n",
    "### Define Text Preprocessor"
   ]
  },
  {
   "cell_type": "code",
   "execution_count": 30,
   "metadata": {
    "execution": {
     "iopub.execute_input": "2025-04-09T09:18:49.747692Z",
     "iopub.status.busy": "2025-04-09T09:18:49.747204Z",
     "iopub.status.idle": "2025-04-09T09:18:49.755927Z",
     "shell.execute_reply": "2025-04-09T09:18:49.754613Z",
     "shell.execute_reply.started": "2025-04-09T09:18:49.747655Z"
    }
   },
   "outputs": [],
   "source": [
    "def text_preprocessor(text):\n",
    "    \n",
    "    # -----------------------------------------------------\n",
    "    # Source: https://stackoverflow.com/questions/33404752/removing-emojis-from-a-string-in-python\n",
    "    emoji_pattern = re.compile(\"[\"\n",
    "        u\"\\U0001F600-\\U0001F64F\"  # emoticons\n",
    "        u\"\\U0001F300-\\U0001F5FF\"  # symbols & pictographs\n",
    "        u\"\\U0001F680-\\U0001F6FF\"  # transport & map symbols\n",
    "        u\"\\U0001F1E0-\\U0001F1FF\"  # flags (iOS)\n",
    "                           \"]+\", flags=re.UNICODE)\n",
    "    # -----------------------------------------------------\n",
    "    non_ascii_pattern = re.compile(r\"[^\\x00-\\x7F]+\", flags=re.UNICODE)\n",
    "    digit_pattern = re.compile('[0-9]', flags=re.UNICODE)\n",
    "    \n",
    "    # -----------------------------------------------------\n",
    "    # Source: https://stackoverflow.com/questions/21932615/regular-expression-for-remove-link\n",
    "    link_pattern = re.compile('(https?:\\/\\/)?([\\da-z\\.-]+)\\.([a-z\\.]{2,6})([\\/\\w \\.-]*)', flags=re.UNICODE)\n",
    "    # -----------------------------------------------------\n",
    "    \n",
    "    # Remove emojis\n",
    "    preprocessed_text = emoji_pattern.sub(r'', text)\n",
    "    # Remoce non-ascii characters\n",
    "    preprocessed_text = non_ascii_pattern.sub(r'', preprocessed_text)\n",
    "    # Replace numbers with '@' sign\n",
    "    preprocessed_text = digit_pattern.sub(r'#', preprocessed_text)\n",
    "    # Remove web links \n",
    "    preprocessed_text = link_pattern.sub(r'', preprocessed_text)\n",
    "    \n",
    "    return preprocessed_text"
   ]
  },
  {
   "cell_type": "markdown",
   "metadata": {},
   "source": [
    "<a id='3.2'></a>\n",
    "### Generate Input Data Pipelines"
   ]
  },
  {
   "cell_type": "code",
   "execution_count": 31,
   "metadata": {
    "execution": {
     "iopub.execute_input": "2025-04-09T09:18:49.758327Z",
     "iopub.status.busy": "2025-04-09T09:18:49.757461Z",
     "iopub.status.idle": "2025-04-09T09:18:49.778053Z",
     "shell.execute_reply": "2025-04-09T09:18:49.776957Z",
     "shell.execute_reply.started": "2025-04-09T09:18:49.758293Z"
    }
   },
   "outputs": [],
   "source": [
    "def encode_labels(labels, label_depth=5):\n",
    "    return tf.one_hot(labels, depth=label_depth).numpy()\n",
    "\n",
    "def create_pipeline(df, preprocessor, batch_size=32, shuffle=False, cache=None, prefetch=False):\n",
    "    '''\n",
    "    Generates an input pipeline using the tf.data API given a Pandas DataFrame and image loading function.\n",
    "    \n",
    "    @params\n",
    "        - df: (pd.DataFrame) -> DataFrame containing texts and labels\n",
    "        - preprocessor (function) -> preprocessor used to preprocess texts\n",
    "        - batch_size: (int) -> size for batched (default=32) \n",
    "        - shuffle: (bool) -> condition for data shuffling, data is shuffled when True (default=False)\n",
    "        - cache: (str) -> cache path for caching data, data is not cached when None (default=None)\n",
    "        - prefetch: (bool) -> condition for prefeching data, data is prefetched when True (default=False)\n",
    "        \n",
    "    @returns\n",
    "        - dataset: (tf.data.Dataset) -> dataset input pipeline used to train a TensorFlow model\n",
    "    '''\n",
    "    # Get image paths and labels from DataFrame\n",
    "    reviews = df['Review'].apply(preprocessor).to_numpy().astype(str)\n",
    "    ratings = encode_labels(df['rating_encoded'].to_numpy().astype(np.float32))\n",
    "    AUTOTUNE = tf.data.AUTOTUNE\n",
    "    \n",
    "    # Create dataset with raw data from DataFrame\n",
    "    ds = tf.data.Dataset.from_tensor_slices((reviews, ratings))\n",
    "    \n",
    "    # Apply shuffling based on condition\n",
    "    if shuffle:\n",
    "        ds = ds.shuffle(buffer_size=1000)\n",
    "        \n",
    "    # Apply batching\n",
    "    ds = ds.batch(batch_size)\n",
    "    \n",
    "    # Apply caching based on condition\n",
    "    # Note: Use cache in memory (cache='') if the data is small enough to fit in memory!!!\n",
    "    if cache != None:\n",
    "        ds = ds.cache(cache)\n",
    "    \n",
    "    # Apply prefetching based on condition\n",
    "    # Note: This will result in memory trade-offs\n",
    "    if prefetch:\n",
    "        ds = ds.prefetch(buffer_size=AUTOTUNE)\n",
    "    \n",
    "    # Return the dataset\n",
    "    return ds"
   ]
  },
  {
   "cell_type": "code",
   "execution_count": 32,
   "metadata": {
    "execution": {
     "iopub.execute_input": "2025-04-09T09:18:49.779733Z",
     "iopub.status.busy": "2025-04-09T09:18:49.779370Z",
     "iopub.status.idle": "2025-04-09T09:18:55.891318Z",
     "shell.execute_reply": "2025-04-09T09:18:55.890396Z",
     "shell.execute_reply.started": "2025-04-09T09:18:49.779702Z"
    }
   },
   "outputs": [],
   "source": [
    "# Create train input data pipeline\n",
    "train_ds = create_pipeline(\n",
    "    train_new_df, text_preprocessor, \n",
    "    batch_size=CFG.BATCH_SIZE, \n",
    "    shuffle=False, prefetch=True\n",
    ")\n",
    "\n",
    "# Create validation input data pipeline\n",
    "val_ds = create_pipeline(\n",
    "    val_df, text_preprocessor,\n",
    "    batch_size=CFG.BATCH_SIZE, \n",
    "    shuffle=False, prefetch=False\n",
    ")"
   ]
  },
  {
   "cell_type": "code",
   "execution_count": 33,
   "metadata": {
    "execution": {
     "iopub.execute_input": "2025-04-09T09:18:55.893689Z",
     "iopub.status.busy": "2025-04-09T09:18:55.893218Z",
     "iopub.status.idle": "2025-04-09T09:18:55.901762Z",
     "shell.execute_reply": "2025-04-09T09:18:55.900452Z",
     "shell.execute_reply.started": "2025-04-09T09:18:55.893644Z"
    }
   },
   "outputs": [
    {
     "name": "stdout",
     "output_type": "stream",
     "text": [
      "========================================\n",
      "Train Input Data Pipeline:\n",
      "\n",
      " <PrefetchDataset shapes: ((None,), (None, 5)), types: (tf.string, tf.float32)>\n",
      "========================================\n",
      "Validation Input Data Pipeline:\n",
      "\n",
      " <BatchDataset shapes: ((None,), (None, 5)), types: (tf.string, tf.float32)>\n",
      "========================================\n"
     ]
    }
   ],
   "source": [
    "# View string representation of datasets\n",
    "print('========================================')\n",
    "print('Train Input Data Pipeline:\\n\\n', train_ds)\n",
    "print('========================================')\n",
    "print('Validation Input Data Pipeline:\\n\\n', val_ds)\n",
    "print('========================================')"
   ]
  },
  {
   "cell_type": "markdown",
   "metadata": {},
   "source": [
    "<center><div style='color:#ffffff;\n",
    "           display:inline-block;\n",
    "           padding: 5px 5px 5px 5px;\n",
    "           border-radius:5px;\n",
    "           background-color:#03e3fc;\n",
    "           font-size:100%;'><a href=#toc style='text-decoration: none; color:#03001C;'>⬆️ Back To Top</a></div></center>\n",
    "\n",
    "<a id='4'></a>\n",
    "# 4 | Baseline Model: Universal Sentence Encoder Model\n",
    "<div style=\"padding: 4px;color:white;margin:10;font-size:200%;text-align:center;display:fill;border-radius:10px;overflow:hidden;background-image: url(https://i.postimg.cc/fTDmwnkQ/Miaka.png); background-size: 100% auto;\"></div>\n",
    "<br>\n",
    "\n",
    "The Universal Sentence Encoder encodes text into high dimensional vectors that can be used for text classification, semantic similarity, clustering, and other natural language tasks. For this baseline model we'll make use of Universal Sentence Encoder (USE) to generate embeddings which are representative of the review texts.\n",
    "\n",
    "<center>\n",
    "    <figure>\n",
    "        <img src=\"https://amitness.com/posts/images/use-overall-pipeline.png\" alt =\"USE Diagram\" style='width: 600px;'>\n",
    "        <figcaption>\n",
    "            Source: <a href=\"https://amitness.com/posts/universal-sentence-encoder\">[Amit Chaudhary | Universal Sentence Encoder Visually Explained]</a>\n",
    "        </figcaption>\n",
    "    </figure>\n",
    "</center>\n",
    "\n",
    "**Reasons for using Universal Sentence Encoder:**\n",
    "1. Minimal hardware requirements for generating embeddings with USE\n",
    "2. Low inference rate\n",
    "3. Light-weight memory consumptions\n",
    "\n",
    "**Drawbacks of using Universal Sentence Encoder:**\n",
    "1. Embedding representations become less accurate as text lengths increases.\n",
    "2. Although USE has a low inference rate, its accuracy falls short when compared to language models such as BERT & DeBERTa-v3\n",
    "\n",
    "<br>\n",
    "\n",
    "**For more information regarding the Universal Sentence Encoder, follow these links:** \n",
    "> - [An Introduction to Transfer Learning](https://georgian.io/an-introduction-to-transfer-learning/)\n",
    "> - [A Comprehensive Hands-on Guide to Transfer Learning with Real-World Applications in Deep Learning](https://towardsdatascience.com/a-comprehensive-hands-on-guide-to-transfer-learning-with-real-world-applications-in-deep-learning-212bf3b2f27a)\n",
    "> - <a href=\"https://amitness.com/2020/06/universal-sentence-encoder/\">Amit Chaudhary | Universal Sentence Encoder Visually Explained</a>\n",
    "\n",
    "<br>\n",
    "\n",
    "<a id=\"tfhub\"></a>\n",
    "## TensorFlow Hub\n",
    "\n",
    "TensorFlow Hub is a repository of trained machine learning models ready for fine-tuning and deployable anywhere. TensorFlow Hub enables us to reuse trained models like BERT and Faster R-CNN with just a few lines of code. In this section we'll get the USE model from TensorFlow Hub. \n",
    "\n",
    "**For more information on TensorFlow Hub or if you would like to access the other models in PyTorch/JAX, check out the following links:**\n",
    "> - [TensorFlow Hub](https://www.tensorflow.org/hub)\n",
    "> - [HuggingFace🤗](https://huggingface.co/)"
   ]
  },
  {
   "cell_type": "code",
   "execution_count": 34,
   "metadata": {
    "execution": {
     "iopub.execute_input": "2025-04-09T09:18:55.903425Z",
     "iopub.status.busy": "2025-04-09T09:18:55.903088Z",
     "iopub.status.idle": "2025-04-09T09:18:55.916515Z",
     "shell.execute_reply": "2025-04-09T09:18:55.915289Z",
     "shell.execute_reply.started": "2025-04-09T09:18:55.903391Z"
    }
   },
   "outputs": [],
   "source": [
    "# Here's a function to get any model/preprocessor from tensorflow hub\n",
    "def get_tfhub_model(model_link, model_name, model_trainable=False):\n",
    "    return hub.KerasLayer(model_link,\n",
    "                          trainable=model_trainable,\n",
    "                          name=model_name)"
   ]
  },
  {
   "cell_type": "markdown",
   "metadata": {},
   "source": [
    "<a id='4.1'></a>\n",
    "### Get Universal Sentence Encoder"
   ]
  },
  {
   "cell_type": "code",
   "execution_count": 35,
   "metadata": {
    "execution": {
     "iopub.execute_input": "2025-04-09T09:18:55.922177Z",
     "iopub.status.busy": "2025-04-09T09:18:55.921726Z",
     "iopub.status.idle": "2025-04-09T09:19:28.297066Z",
     "shell.execute_reply": "2025-04-09T09:19:28.295176Z",
     "shell.execute_reply.started": "2025-04-09T09:18:55.922145Z"
    }
   },
   "outputs": [
    {
     "ename": "URLError",
     "evalue": "<urlopen error [Errno -3] Temporary failure in name resolution>",
     "output_type": "error",
     "traceback": [
      "\u001b[0;31m---------------------------------------------------------------------------\u001b[0m",
      "\u001b[0;31mgaierror\u001b[0m                                  Traceback (most recent call last)",
      "\u001b[0;32m/opt/conda/lib/python3.7/urllib/request.py\u001b[0m in \u001b[0;36mdo_open\u001b[0;34m(self, http_class, req, **http_conn_args)\u001b[0m\n\u001b[1;32m   1349\u001b[0m                 h.request(req.get_method(), req.selector, req.data, headers,\n\u001b[0;32m-> 1350\u001b[0;31m                           encode_chunked=req.has_header('Transfer-encoding'))\n\u001b[0m\u001b[1;32m   1351\u001b[0m             \u001b[0;32mexcept\u001b[0m \u001b[0mOSError\u001b[0m \u001b[0;32mas\u001b[0m \u001b[0merr\u001b[0m\u001b[0;34m:\u001b[0m \u001b[0;31m# timeout error\u001b[0m\u001b[0;34m\u001b[0m\u001b[0;34m\u001b[0m\u001b[0m\n",
      "\u001b[0;32m/opt/conda/lib/python3.7/http/client.py\u001b[0m in \u001b[0;36mrequest\u001b[0;34m(self, method, url, body, headers, encode_chunked)\u001b[0m\n\u001b[1;32m   1280\u001b[0m         \u001b[0;34m\"\"\"Send a complete request to the server.\"\"\"\u001b[0m\u001b[0;34m\u001b[0m\u001b[0;34m\u001b[0m\u001b[0m\n\u001b[0;32m-> 1281\u001b[0;31m         \u001b[0mself\u001b[0m\u001b[0;34m.\u001b[0m\u001b[0m_send_request\u001b[0m\u001b[0;34m(\u001b[0m\u001b[0mmethod\u001b[0m\u001b[0;34m,\u001b[0m \u001b[0murl\u001b[0m\u001b[0;34m,\u001b[0m \u001b[0mbody\u001b[0m\u001b[0;34m,\u001b[0m \u001b[0mheaders\u001b[0m\u001b[0;34m,\u001b[0m \u001b[0mencode_chunked\u001b[0m\u001b[0;34m)\u001b[0m\u001b[0;34m\u001b[0m\u001b[0;34m\u001b[0m\u001b[0m\n\u001b[0m\u001b[1;32m   1282\u001b[0m \u001b[0;34m\u001b[0m\u001b[0m\n",
      "\u001b[0;32m/opt/conda/lib/python3.7/http/client.py\u001b[0m in \u001b[0;36m_send_request\u001b[0;34m(self, method, url, body, headers, encode_chunked)\u001b[0m\n\u001b[1;32m   1326\u001b[0m             \u001b[0mbody\u001b[0m \u001b[0;34m=\u001b[0m \u001b[0m_encode\u001b[0m\u001b[0;34m(\u001b[0m\u001b[0mbody\u001b[0m\u001b[0;34m,\u001b[0m \u001b[0;34m'body'\u001b[0m\u001b[0;34m)\u001b[0m\u001b[0;34m\u001b[0m\u001b[0;34m\u001b[0m\u001b[0m\n\u001b[0;32m-> 1327\u001b[0;31m         \u001b[0mself\u001b[0m\u001b[0;34m.\u001b[0m\u001b[0mendheaders\u001b[0m\u001b[0;34m(\u001b[0m\u001b[0mbody\u001b[0m\u001b[0;34m,\u001b[0m \u001b[0mencode_chunked\u001b[0m\u001b[0;34m=\u001b[0m\u001b[0mencode_chunked\u001b[0m\u001b[0;34m)\u001b[0m\u001b[0;34m\u001b[0m\u001b[0;34m\u001b[0m\u001b[0m\n\u001b[0m\u001b[1;32m   1328\u001b[0m \u001b[0;34m\u001b[0m\u001b[0m\n",
      "\u001b[0;32m/opt/conda/lib/python3.7/http/client.py\u001b[0m in \u001b[0;36mendheaders\u001b[0;34m(self, message_body, encode_chunked)\u001b[0m\n\u001b[1;32m   1275\u001b[0m             \u001b[0;32mraise\u001b[0m \u001b[0mCannotSendHeader\u001b[0m\u001b[0;34m(\u001b[0m\u001b[0;34m)\u001b[0m\u001b[0;34m\u001b[0m\u001b[0;34m\u001b[0m\u001b[0m\n\u001b[0;32m-> 1276\u001b[0;31m         \u001b[0mself\u001b[0m\u001b[0;34m.\u001b[0m\u001b[0m_send_output\u001b[0m\u001b[0;34m(\u001b[0m\u001b[0mmessage_body\u001b[0m\u001b[0;34m,\u001b[0m \u001b[0mencode_chunked\u001b[0m\u001b[0;34m=\u001b[0m\u001b[0mencode_chunked\u001b[0m\u001b[0;34m)\u001b[0m\u001b[0;34m\u001b[0m\u001b[0;34m\u001b[0m\u001b[0m\n\u001b[0m\u001b[1;32m   1277\u001b[0m \u001b[0;34m\u001b[0m\u001b[0m\n",
      "\u001b[0;32m/opt/conda/lib/python3.7/http/client.py\u001b[0m in \u001b[0;36m_send_output\u001b[0;34m(self, message_body, encode_chunked)\u001b[0m\n\u001b[1;32m   1035\u001b[0m         \u001b[0;32mdel\u001b[0m \u001b[0mself\u001b[0m\u001b[0;34m.\u001b[0m\u001b[0m_buffer\u001b[0m\u001b[0;34m[\u001b[0m\u001b[0;34m:\u001b[0m\u001b[0;34m]\u001b[0m\u001b[0;34m\u001b[0m\u001b[0;34m\u001b[0m\u001b[0m\n\u001b[0;32m-> 1036\u001b[0;31m         \u001b[0mself\u001b[0m\u001b[0;34m.\u001b[0m\u001b[0msend\u001b[0m\u001b[0;34m(\u001b[0m\u001b[0mmsg\u001b[0m\u001b[0;34m)\u001b[0m\u001b[0;34m\u001b[0m\u001b[0;34m\u001b[0m\u001b[0m\n\u001b[0m\u001b[1;32m   1037\u001b[0m \u001b[0;34m\u001b[0m\u001b[0m\n",
      "\u001b[0;32m/opt/conda/lib/python3.7/http/client.py\u001b[0m in \u001b[0;36msend\u001b[0;34m(self, data)\u001b[0m\n\u001b[1;32m    975\u001b[0m             \u001b[0;32mif\u001b[0m \u001b[0mself\u001b[0m\u001b[0;34m.\u001b[0m\u001b[0mauto_open\u001b[0m\u001b[0;34m:\u001b[0m\u001b[0;34m\u001b[0m\u001b[0;34m\u001b[0m\u001b[0m\n\u001b[0;32m--> 976\u001b[0;31m                 \u001b[0mself\u001b[0m\u001b[0;34m.\u001b[0m\u001b[0mconnect\u001b[0m\u001b[0;34m(\u001b[0m\u001b[0;34m)\u001b[0m\u001b[0;34m\u001b[0m\u001b[0;34m\u001b[0m\u001b[0m\n\u001b[0m\u001b[1;32m    977\u001b[0m             \u001b[0;32melse\u001b[0m\u001b[0;34m:\u001b[0m\u001b[0;34m\u001b[0m\u001b[0;34m\u001b[0m\u001b[0m\n",
      "\u001b[0;32m/opt/conda/lib/python3.7/http/client.py\u001b[0m in \u001b[0;36mconnect\u001b[0;34m(self)\u001b[0m\n\u001b[1;32m   1442\u001b[0m \u001b[0;34m\u001b[0m\u001b[0m\n\u001b[0;32m-> 1443\u001b[0;31m             \u001b[0msuper\u001b[0m\u001b[0;34m(\u001b[0m\u001b[0;34m)\u001b[0m\u001b[0;34m.\u001b[0m\u001b[0mconnect\u001b[0m\u001b[0;34m(\u001b[0m\u001b[0;34m)\u001b[0m\u001b[0;34m\u001b[0m\u001b[0;34m\u001b[0m\u001b[0m\n\u001b[0m\u001b[1;32m   1444\u001b[0m \u001b[0;34m\u001b[0m\u001b[0m\n",
      "\u001b[0;32m/opt/conda/lib/python3.7/http/client.py\u001b[0m in \u001b[0;36mconnect\u001b[0;34m(self)\u001b[0m\n\u001b[1;32m    947\u001b[0m         self.sock = self._create_connection(\n\u001b[0;32m--> 948\u001b[0;31m             (self.host,self.port), self.timeout, self.source_address)\n\u001b[0m\u001b[1;32m    949\u001b[0m         \u001b[0mself\u001b[0m\u001b[0;34m.\u001b[0m\u001b[0msock\u001b[0m\u001b[0;34m.\u001b[0m\u001b[0msetsockopt\u001b[0m\u001b[0;34m(\u001b[0m\u001b[0msocket\u001b[0m\u001b[0;34m.\u001b[0m\u001b[0mIPPROTO_TCP\u001b[0m\u001b[0;34m,\u001b[0m \u001b[0msocket\u001b[0m\u001b[0;34m.\u001b[0m\u001b[0mTCP_NODELAY\u001b[0m\u001b[0;34m,\u001b[0m \u001b[0;36m1\u001b[0m\u001b[0;34m)\u001b[0m\u001b[0;34m\u001b[0m\u001b[0;34m\u001b[0m\u001b[0m\n",
      "\u001b[0;32m/opt/conda/lib/python3.7/socket.py\u001b[0m in \u001b[0;36mcreate_connection\u001b[0;34m(address, timeout, source_address)\u001b[0m\n\u001b[1;32m    706\u001b[0m     \u001b[0merr\u001b[0m \u001b[0;34m=\u001b[0m \u001b[0;32mNone\u001b[0m\u001b[0;34m\u001b[0m\u001b[0;34m\u001b[0m\u001b[0m\n\u001b[0;32m--> 707\u001b[0;31m     \u001b[0;32mfor\u001b[0m \u001b[0mres\u001b[0m \u001b[0;32min\u001b[0m \u001b[0mgetaddrinfo\u001b[0m\u001b[0;34m(\u001b[0m\u001b[0mhost\u001b[0m\u001b[0;34m,\u001b[0m \u001b[0mport\u001b[0m\u001b[0;34m,\u001b[0m \u001b[0;36m0\u001b[0m\u001b[0;34m,\u001b[0m \u001b[0mSOCK_STREAM\u001b[0m\u001b[0;34m)\u001b[0m\u001b[0;34m:\u001b[0m\u001b[0;34m\u001b[0m\u001b[0;34m\u001b[0m\u001b[0m\n\u001b[0m\u001b[1;32m    708\u001b[0m         \u001b[0maf\u001b[0m\u001b[0;34m,\u001b[0m \u001b[0msocktype\u001b[0m\u001b[0;34m,\u001b[0m \u001b[0mproto\u001b[0m\u001b[0;34m,\u001b[0m \u001b[0mcanonname\u001b[0m\u001b[0;34m,\u001b[0m \u001b[0msa\u001b[0m \u001b[0;34m=\u001b[0m \u001b[0mres\u001b[0m\u001b[0;34m\u001b[0m\u001b[0;34m\u001b[0m\u001b[0m\n",
      "\u001b[0;32m/opt/conda/lib/python3.7/socket.py\u001b[0m in \u001b[0;36mgetaddrinfo\u001b[0;34m(host, port, family, type, proto, flags)\u001b[0m\n\u001b[1;32m    751\u001b[0m     \u001b[0maddrlist\u001b[0m \u001b[0;34m=\u001b[0m \u001b[0;34m[\u001b[0m\u001b[0;34m]\u001b[0m\u001b[0;34m\u001b[0m\u001b[0;34m\u001b[0m\u001b[0m\n\u001b[0;32m--> 752\u001b[0;31m     \u001b[0;32mfor\u001b[0m \u001b[0mres\u001b[0m \u001b[0;32min\u001b[0m \u001b[0m_socket\u001b[0m\u001b[0;34m.\u001b[0m\u001b[0mgetaddrinfo\u001b[0m\u001b[0;34m(\u001b[0m\u001b[0mhost\u001b[0m\u001b[0;34m,\u001b[0m \u001b[0mport\u001b[0m\u001b[0;34m,\u001b[0m \u001b[0mfamily\u001b[0m\u001b[0;34m,\u001b[0m \u001b[0mtype\u001b[0m\u001b[0;34m,\u001b[0m \u001b[0mproto\u001b[0m\u001b[0;34m,\u001b[0m \u001b[0mflags\u001b[0m\u001b[0;34m)\u001b[0m\u001b[0;34m:\u001b[0m\u001b[0;34m\u001b[0m\u001b[0;34m\u001b[0m\u001b[0m\n\u001b[0m\u001b[1;32m    753\u001b[0m         \u001b[0maf\u001b[0m\u001b[0;34m,\u001b[0m \u001b[0msocktype\u001b[0m\u001b[0;34m,\u001b[0m \u001b[0mproto\u001b[0m\u001b[0;34m,\u001b[0m \u001b[0mcanonname\u001b[0m\u001b[0;34m,\u001b[0m \u001b[0msa\u001b[0m \u001b[0;34m=\u001b[0m \u001b[0mres\u001b[0m\u001b[0;34m\u001b[0m\u001b[0;34m\u001b[0m\u001b[0m\n",
      "\u001b[0;31mgaierror\u001b[0m: [Errno -3] Temporary failure in name resolution",
      "\nDuring handling of the above exception, another exception occurred:\n",
      "\u001b[0;31mURLError\u001b[0m                                  Traceback (most recent call last)",
      "\u001b[0;32m/tmp/ipykernel_27/949346021.py\u001b[0m in \u001b[0;36m<module>\u001b[0;34m\u001b[0m\n\u001b[1;32m     11\u001b[0m \u001b[0mencoder_trainable\u001b[0m\u001b[0;34m=\u001b[0m\u001b[0;32mFalse\u001b[0m \u001b[0;31m# set trainable to False for inference-only\u001b[0m\u001b[0;34m\u001b[0m\u001b[0;34m\u001b[0m\u001b[0m\n\u001b[1;32m     12\u001b[0m \u001b[0;34m\u001b[0m\u001b[0m\n\u001b[0;32m---> 13\u001b[0;31m \u001b[0mencoder\u001b[0m \u001b[0;34m=\u001b[0m \u001b[0mget_tfhub_model\u001b[0m\u001b[0;34m(\u001b[0m\u001b[0mencoder_link\u001b[0m\u001b[0;34m,\u001b[0m \u001b[0mencoder_name\u001b[0m\u001b[0;34m,\u001b[0m \u001b[0mmodel_trainable\u001b[0m\u001b[0;34m=\u001b[0m\u001b[0mencoder_trainable\u001b[0m\u001b[0;34m)\u001b[0m\u001b[0;34m\u001b[0m\u001b[0;34m\u001b[0m\u001b[0m\n\u001b[0m",
      "\u001b[0;32m/tmp/ipykernel_27/610634125.py\u001b[0m in \u001b[0;36mget_tfhub_model\u001b[0;34m(model_link, model_name, model_trainable)\u001b[0m\n\u001b[1;32m      3\u001b[0m     return hub.KerasLayer(model_link,\n\u001b[1;32m      4\u001b[0m                           \u001b[0mtrainable\u001b[0m\u001b[0;34m=\u001b[0m\u001b[0mmodel_trainable\u001b[0m\u001b[0;34m,\u001b[0m\u001b[0;34m\u001b[0m\u001b[0;34m\u001b[0m\u001b[0m\n\u001b[0;32m----> 5\u001b[0;31m                           name=model_name)\n\u001b[0m",
      "\u001b[0;32m/opt/conda/lib/python3.7/site-packages/tensorflow_hub/keras_layer.py\u001b[0m in \u001b[0;36m__init__\u001b[0;34m(self, handle, trainable, arguments, _sentinel, tags, signature, signature_outputs_as_dict, output_key, output_shape, load_options, **kwargs)\u001b[0m\n\u001b[1;32m    151\u001b[0m \u001b[0;34m\u001b[0m\u001b[0m\n\u001b[1;32m    152\u001b[0m     \u001b[0mself\u001b[0m\u001b[0;34m.\u001b[0m\u001b[0m_load_options\u001b[0m \u001b[0;34m=\u001b[0m \u001b[0mload_options\u001b[0m\u001b[0;34m\u001b[0m\u001b[0;34m\u001b[0m\u001b[0m\n\u001b[0;32m--> 153\u001b[0;31m     \u001b[0mself\u001b[0m\u001b[0;34m.\u001b[0m\u001b[0m_func\u001b[0m \u001b[0;34m=\u001b[0m \u001b[0mload_module\u001b[0m\u001b[0;34m(\u001b[0m\u001b[0mhandle\u001b[0m\u001b[0;34m,\u001b[0m \u001b[0mtags\u001b[0m\u001b[0;34m,\u001b[0m \u001b[0mself\u001b[0m\u001b[0;34m.\u001b[0m\u001b[0m_load_options\u001b[0m\u001b[0;34m)\u001b[0m\u001b[0;34m\u001b[0m\u001b[0;34m\u001b[0m\u001b[0m\n\u001b[0m\u001b[1;32m    154\u001b[0m     \u001b[0mself\u001b[0m\u001b[0;34m.\u001b[0m\u001b[0m_has_training_argument\u001b[0m \u001b[0;34m=\u001b[0m \u001b[0mfunc_has_training_argument\u001b[0m\u001b[0;34m(\u001b[0m\u001b[0mself\u001b[0m\u001b[0;34m.\u001b[0m\u001b[0m_func\u001b[0m\u001b[0;34m)\u001b[0m\u001b[0;34m\u001b[0m\u001b[0;34m\u001b[0m\u001b[0m\n\u001b[1;32m    155\u001b[0m     \u001b[0mself\u001b[0m\u001b[0;34m.\u001b[0m\u001b[0m_is_hub_module_v1\u001b[0m \u001b[0;34m=\u001b[0m \u001b[0mgetattr\u001b[0m\u001b[0;34m(\u001b[0m\u001b[0mself\u001b[0m\u001b[0;34m.\u001b[0m\u001b[0m_func\u001b[0m\u001b[0;34m,\u001b[0m \u001b[0;34m\"_is_hub_module_v1\"\u001b[0m\u001b[0;34m,\u001b[0m \u001b[0;32mFalse\u001b[0m\u001b[0;34m)\u001b[0m\u001b[0;34m\u001b[0m\u001b[0;34m\u001b[0m\u001b[0m\n",
      "\u001b[0;32m/opt/conda/lib/python3.7/site-packages/tensorflow_hub/keras_layer.py\u001b[0m in \u001b[0;36mload_module\u001b[0;34m(handle, tags, load_options)\u001b[0m\n\u001b[1;32m    447\u001b[0m       \u001b[0;32mexcept\u001b[0m \u001b[0mImportError\u001b[0m\u001b[0;34m:\u001b[0m  \u001b[0;31m# Expected before TF2.4.\u001b[0m\u001b[0;34m\u001b[0m\u001b[0;34m\u001b[0m\u001b[0m\n\u001b[1;32m    448\u001b[0m         \u001b[0mset_load_options\u001b[0m \u001b[0;34m=\u001b[0m \u001b[0mload_options\u001b[0m\u001b[0;34m\u001b[0m\u001b[0;34m\u001b[0m\u001b[0m\n\u001b[0;32m--> 449\u001b[0;31m     \u001b[0;32mreturn\u001b[0m \u001b[0mmodule_v2\u001b[0m\u001b[0;34m.\u001b[0m\u001b[0mload\u001b[0m\u001b[0;34m(\u001b[0m\u001b[0mhandle\u001b[0m\u001b[0;34m,\u001b[0m \u001b[0mtags\u001b[0m\u001b[0;34m=\u001b[0m\u001b[0mtags\u001b[0m\u001b[0;34m,\u001b[0m \u001b[0moptions\u001b[0m\u001b[0;34m=\u001b[0m\u001b[0mset_load_options\u001b[0m\u001b[0;34m)\u001b[0m\u001b[0;34m\u001b[0m\u001b[0;34m\u001b[0m\u001b[0m\n\u001b[0m\u001b[1;32m    450\u001b[0m \u001b[0;34m\u001b[0m\u001b[0m\n\u001b[1;32m    451\u001b[0m \u001b[0;34m\u001b[0m\u001b[0m\n",
      "\u001b[0;32m/opt/conda/lib/python3.7/site-packages/tensorflow_hub/module_v2.py\u001b[0m in \u001b[0;36mload\u001b[0;34m(handle, tags, options)\u001b[0m\n\u001b[1;32m     90\u001b[0m   \u001b[0;32mif\u001b[0m \u001b[0;32mnot\u001b[0m \u001b[0misinstance\u001b[0m\u001b[0;34m(\u001b[0m\u001b[0mhandle\u001b[0m\u001b[0;34m,\u001b[0m \u001b[0mstr\u001b[0m\u001b[0;34m)\u001b[0m\u001b[0;34m:\u001b[0m\u001b[0;34m\u001b[0m\u001b[0;34m\u001b[0m\u001b[0m\n\u001b[1;32m     91\u001b[0m     \u001b[0;32mraise\u001b[0m \u001b[0mValueError\u001b[0m\u001b[0;34m(\u001b[0m\u001b[0;34m\"Expected a string, got %s\"\u001b[0m \u001b[0;34m%\u001b[0m \u001b[0mhandle\u001b[0m\u001b[0;34m)\u001b[0m\u001b[0;34m\u001b[0m\u001b[0;34m\u001b[0m\u001b[0m\n\u001b[0;32m---> 92\u001b[0;31m   \u001b[0mmodule_path\u001b[0m \u001b[0;34m=\u001b[0m \u001b[0mresolve\u001b[0m\u001b[0;34m(\u001b[0m\u001b[0mhandle\u001b[0m\u001b[0;34m)\u001b[0m\u001b[0;34m\u001b[0m\u001b[0;34m\u001b[0m\u001b[0m\n\u001b[0m\u001b[1;32m     93\u001b[0m   is_hub_module_v1 = tf.io.gfile.exists(\n\u001b[1;32m     94\u001b[0m       native_module.get_module_proto_path(module_path))\n",
      "\u001b[0;32m/opt/conda/lib/python3.7/site-packages/tensorflow_hub/module_v2.py\u001b[0m in \u001b[0;36mresolve\u001b[0;34m(handle)\u001b[0m\n\u001b[1;32m     45\u001b[0m     \u001b[0mA\u001b[0m \u001b[0mstring\u001b[0m \u001b[0mrepresenting\u001b[0m \u001b[0mthe\u001b[0m \u001b[0mModule\u001b[0m \u001b[0mpath\u001b[0m\u001b[0;34m.\u001b[0m\u001b[0;34m\u001b[0m\u001b[0;34m\u001b[0m\u001b[0m\n\u001b[1;32m     46\u001b[0m   \"\"\"\n\u001b[0;32m---> 47\u001b[0;31m   \u001b[0;32mreturn\u001b[0m \u001b[0mregistry\u001b[0m\u001b[0;34m.\u001b[0m\u001b[0mresolver\u001b[0m\u001b[0;34m(\u001b[0m\u001b[0mhandle\u001b[0m\u001b[0;34m)\u001b[0m\u001b[0;34m\u001b[0m\u001b[0;34m\u001b[0m\u001b[0m\n\u001b[0m\u001b[1;32m     48\u001b[0m \u001b[0;34m\u001b[0m\u001b[0m\n\u001b[1;32m     49\u001b[0m \u001b[0;34m\u001b[0m\u001b[0m\n",
      "\u001b[0;32m/opt/conda/lib/python3.7/site-packages/tensorflow_hub/registry.py\u001b[0m in \u001b[0;36m__call__\u001b[0;34m(self, *args, **kwargs)\u001b[0m\n\u001b[1;32m     49\u001b[0m     \u001b[0;32mfor\u001b[0m \u001b[0mimpl\u001b[0m \u001b[0;32min\u001b[0m \u001b[0mreversed\u001b[0m\u001b[0;34m(\u001b[0m\u001b[0mself\u001b[0m\u001b[0;34m.\u001b[0m\u001b[0m_impls\u001b[0m\u001b[0;34m)\u001b[0m\u001b[0;34m:\u001b[0m\u001b[0;34m\u001b[0m\u001b[0;34m\u001b[0m\u001b[0m\n\u001b[1;32m     50\u001b[0m       \u001b[0;32mif\u001b[0m \u001b[0mimpl\u001b[0m\u001b[0;34m.\u001b[0m\u001b[0mis_supported\u001b[0m\u001b[0;34m(\u001b[0m\u001b[0;34m*\u001b[0m\u001b[0margs\u001b[0m\u001b[0;34m,\u001b[0m \u001b[0;34m**\u001b[0m\u001b[0mkwargs\u001b[0m\u001b[0;34m)\u001b[0m\u001b[0;34m:\u001b[0m\u001b[0;34m\u001b[0m\u001b[0;34m\u001b[0m\u001b[0m\n\u001b[0;32m---> 51\u001b[0;31m         \u001b[0;32mreturn\u001b[0m \u001b[0mimpl\u001b[0m\u001b[0;34m(\u001b[0m\u001b[0;34m*\u001b[0m\u001b[0margs\u001b[0m\u001b[0;34m,\u001b[0m \u001b[0;34m**\u001b[0m\u001b[0mkwargs\u001b[0m\u001b[0;34m)\u001b[0m\u001b[0;34m\u001b[0m\u001b[0;34m\u001b[0m\u001b[0m\n\u001b[0m\u001b[1;32m     52\u001b[0m       \u001b[0;32melse\u001b[0m\u001b[0;34m:\u001b[0m\u001b[0;34m\u001b[0m\u001b[0;34m\u001b[0m\u001b[0m\n\u001b[1;32m     53\u001b[0m         \u001b[0mfails\u001b[0m\u001b[0;34m.\u001b[0m\u001b[0mappend\u001b[0m\u001b[0;34m(\u001b[0m\u001b[0mtype\u001b[0m\u001b[0;34m(\u001b[0m\u001b[0mimpl\u001b[0m\u001b[0;34m)\u001b[0m\u001b[0;34m.\u001b[0m\u001b[0m__name__\u001b[0m\u001b[0;34m)\u001b[0m\u001b[0;34m\u001b[0m\u001b[0;34m\u001b[0m\u001b[0m\n",
      "\u001b[0;32m/opt/conda/lib/python3.7/site-packages/tensorflow_hub/compressed_module_resolver.py\u001b[0m in \u001b[0;36m__call__\u001b[0;34m(self, handle)\u001b[0m\n\u001b[1;32m     66\u001b[0m \u001b[0;34m\u001b[0m\u001b[0m\n\u001b[1;32m     67\u001b[0m     return resolver.atomic_download(handle, download, module_dir,\n\u001b[0;32m---> 68\u001b[0;31m                                     self._lock_file_timeout_sec())\n\u001b[0m\u001b[1;32m     69\u001b[0m \u001b[0;34m\u001b[0m\u001b[0m\n\u001b[1;32m     70\u001b[0m   \u001b[0;32mdef\u001b[0m \u001b[0m_lock_file_timeout_sec\u001b[0m\u001b[0;34m(\u001b[0m\u001b[0mself\u001b[0m\u001b[0;34m)\u001b[0m\u001b[0;34m:\u001b[0m\u001b[0;34m\u001b[0m\u001b[0;34m\u001b[0m\u001b[0m\n",
      "\u001b[0;32m/opt/conda/lib/python3.7/site-packages/tensorflow_hub/resolver.py\u001b[0m in \u001b[0;36matomic_download\u001b[0;34m(handle, download_fn, module_dir, lock_file_timeout_sec)\u001b[0m\n\u001b[1;32m    416\u001b[0m     \u001b[0mlogging\u001b[0m\u001b[0;34m.\u001b[0m\u001b[0minfo\u001b[0m\u001b[0;34m(\u001b[0m\u001b[0;34m\"Downloading TF-Hub Module '%s'.\"\u001b[0m\u001b[0;34m,\u001b[0m \u001b[0mhandle\u001b[0m\u001b[0;34m)\u001b[0m\u001b[0;34m\u001b[0m\u001b[0;34m\u001b[0m\u001b[0m\n\u001b[1;32m    417\u001b[0m     \u001b[0mtf\u001b[0m\u001b[0;34m.\u001b[0m\u001b[0mcompat\u001b[0m\u001b[0;34m.\u001b[0m\u001b[0mv1\u001b[0m\u001b[0;34m.\u001b[0m\u001b[0mgfile\u001b[0m\u001b[0;34m.\u001b[0m\u001b[0mMakeDirs\u001b[0m\u001b[0;34m(\u001b[0m\u001b[0mtmp_dir\u001b[0m\u001b[0;34m)\u001b[0m\u001b[0;34m\u001b[0m\u001b[0;34m\u001b[0m\u001b[0m\n\u001b[0;32m--> 418\u001b[0;31m     \u001b[0mdownload_fn\u001b[0m\u001b[0;34m(\u001b[0m\u001b[0mhandle\u001b[0m\u001b[0;34m,\u001b[0m \u001b[0mtmp_dir\u001b[0m\u001b[0;34m)\u001b[0m\u001b[0;34m\u001b[0m\u001b[0;34m\u001b[0m\u001b[0m\n\u001b[0m\u001b[1;32m    419\u001b[0m     \u001b[0;31m# Write module descriptor to capture information about which module was\u001b[0m\u001b[0;34m\u001b[0m\u001b[0;34m\u001b[0m\u001b[0;34m\u001b[0m\u001b[0m\n\u001b[1;32m    420\u001b[0m     \u001b[0;31m# downloaded by whom and when. The file stored at the same level as a\u001b[0m\u001b[0;34m\u001b[0m\u001b[0;34m\u001b[0m\u001b[0;34m\u001b[0m\u001b[0m\n",
      "\u001b[0;32m/opt/conda/lib/python3.7/site-packages/tensorflow_hub/compressed_module_resolver.py\u001b[0m in \u001b[0;36mdownload\u001b[0;34m(handle, tmp_dir)\u001b[0m\n\u001b[1;32m     61\u001b[0m       request = urllib.request.Request(\n\u001b[1;32m     62\u001b[0m           self._append_compressed_format_query(handle))\n\u001b[0;32m---> 63\u001b[0;31m       \u001b[0mresponse\u001b[0m \u001b[0;34m=\u001b[0m \u001b[0mself\u001b[0m\u001b[0;34m.\u001b[0m\u001b[0m_call_urlopen\u001b[0m\u001b[0;34m(\u001b[0m\u001b[0mrequest\u001b[0m\u001b[0;34m)\u001b[0m\u001b[0;34m\u001b[0m\u001b[0;34m\u001b[0m\u001b[0m\n\u001b[0m\u001b[1;32m     64\u001b[0m       return resolver.DownloadManager(handle).download_and_uncompress(\n\u001b[1;32m     65\u001b[0m           response, tmp_dir)\n",
      "\u001b[0;32m/opt/conda/lib/python3.7/site-packages/tensorflow_hub/resolver.py\u001b[0m in \u001b[0;36m_call_urlopen\u001b[0;34m(self, request)\u001b[0m\n\u001b[1;32m    520\u001b[0m     \u001b[0;31m# Overriding this method allows setting SSL context in Python 3.\u001b[0m\u001b[0;34m\u001b[0m\u001b[0;34m\u001b[0m\u001b[0;34m\u001b[0m\u001b[0m\n\u001b[1;32m    521\u001b[0m     \u001b[0;32mif\u001b[0m \u001b[0mself\u001b[0m\u001b[0;34m.\u001b[0m\u001b[0m_context\u001b[0m \u001b[0;32mis\u001b[0m \u001b[0;32mNone\u001b[0m\u001b[0;34m:\u001b[0m\u001b[0;34m\u001b[0m\u001b[0;34m\u001b[0m\u001b[0m\n\u001b[0;32m--> 522\u001b[0;31m       \u001b[0;32mreturn\u001b[0m \u001b[0murllib\u001b[0m\u001b[0;34m.\u001b[0m\u001b[0mrequest\u001b[0m\u001b[0;34m.\u001b[0m\u001b[0murlopen\u001b[0m\u001b[0;34m(\u001b[0m\u001b[0mrequest\u001b[0m\u001b[0;34m)\u001b[0m\u001b[0;34m\u001b[0m\u001b[0;34m\u001b[0m\u001b[0m\n\u001b[0m\u001b[1;32m    523\u001b[0m     \u001b[0;32melse\u001b[0m\u001b[0;34m:\u001b[0m\u001b[0;34m\u001b[0m\u001b[0;34m\u001b[0m\u001b[0m\n\u001b[1;32m    524\u001b[0m       \u001b[0;32mreturn\u001b[0m \u001b[0murllib\u001b[0m\u001b[0;34m.\u001b[0m\u001b[0mrequest\u001b[0m\u001b[0;34m.\u001b[0m\u001b[0murlopen\u001b[0m\u001b[0;34m(\u001b[0m\u001b[0mrequest\u001b[0m\u001b[0;34m,\u001b[0m \u001b[0mcontext\u001b[0m\u001b[0;34m=\u001b[0m\u001b[0mself\u001b[0m\u001b[0;34m.\u001b[0m\u001b[0m_context\u001b[0m\u001b[0;34m)\u001b[0m\u001b[0;34m\u001b[0m\u001b[0;34m\u001b[0m\u001b[0m\n",
      "\u001b[0;32m/opt/conda/lib/python3.7/urllib/request.py\u001b[0m in \u001b[0;36murlopen\u001b[0;34m(url, data, timeout, cafile, capath, cadefault, context)\u001b[0m\n\u001b[1;32m    220\u001b[0m     \u001b[0;32melse\u001b[0m\u001b[0;34m:\u001b[0m\u001b[0;34m\u001b[0m\u001b[0;34m\u001b[0m\u001b[0m\n\u001b[1;32m    221\u001b[0m         \u001b[0mopener\u001b[0m \u001b[0;34m=\u001b[0m \u001b[0m_opener\u001b[0m\u001b[0;34m\u001b[0m\u001b[0;34m\u001b[0m\u001b[0m\n\u001b[0;32m--> 222\u001b[0;31m     \u001b[0;32mreturn\u001b[0m \u001b[0mopener\u001b[0m\u001b[0;34m.\u001b[0m\u001b[0mopen\u001b[0m\u001b[0;34m(\u001b[0m\u001b[0murl\u001b[0m\u001b[0;34m,\u001b[0m \u001b[0mdata\u001b[0m\u001b[0;34m,\u001b[0m \u001b[0mtimeout\u001b[0m\u001b[0;34m)\u001b[0m\u001b[0;34m\u001b[0m\u001b[0;34m\u001b[0m\u001b[0m\n\u001b[0m\u001b[1;32m    223\u001b[0m \u001b[0;34m\u001b[0m\u001b[0m\n\u001b[1;32m    224\u001b[0m \u001b[0;32mdef\u001b[0m \u001b[0minstall_opener\u001b[0m\u001b[0;34m(\u001b[0m\u001b[0mopener\u001b[0m\u001b[0;34m)\u001b[0m\u001b[0;34m:\u001b[0m\u001b[0;34m\u001b[0m\u001b[0;34m\u001b[0m\u001b[0m\n",
      "\u001b[0;32m/opt/conda/lib/python3.7/urllib/request.py\u001b[0m in \u001b[0;36mopen\u001b[0;34m(self, fullurl, data, timeout)\u001b[0m\n\u001b[1;32m    523\u001b[0m             \u001b[0mreq\u001b[0m \u001b[0;34m=\u001b[0m \u001b[0mmeth\u001b[0m\u001b[0;34m(\u001b[0m\u001b[0mreq\u001b[0m\u001b[0;34m)\u001b[0m\u001b[0;34m\u001b[0m\u001b[0;34m\u001b[0m\u001b[0m\n\u001b[1;32m    524\u001b[0m \u001b[0;34m\u001b[0m\u001b[0m\n\u001b[0;32m--> 525\u001b[0;31m         \u001b[0mresponse\u001b[0m \u001b[0;34m=\u001b[0m \u001b[0mself\u001b[0m\u001b[0;34m.\u001b[0m\u001b[0m_open\u001b[0m\u001b[0;34m(\u001b[0m\u001b[0mreq\u001b[0m\u001b[0;34m,\u001b[0m \u001b[0mdata\u001b[0m\u001b[0;34m)\u001b[0m\u001b[0;34m\u001b[0m\u001b[0;34m\u001b[0m\u001b[0m\n\u001b[0m\u001b[1;32m    526\u001b[0m \u001b[0;34m\u001b[0m\u001b[0m\n\u001b[1;32m    527\u001b[0m         \u001b[0;31m# post-process response\u001b[0m\u001b[0;34m\u001b[0m\u001b[0;34m\u001b[0m\u001b[0;34m\u001b[0m\u001b[0m\n",
      "\u001b[0;32m/opt/conda/lib/python3.7/urllib/request.py\u001b[0m in \u001b[0;36m_open\u001b[0;34m(self, req, data)\u001b[0m\n\u001b[1;32m    541\u001b[0m         \u001b[0mprotocol\u001b[0m \u001b[0;34m=\u001b[0m \u001b[0mreq\u001b[0m\u001b[0;34m.\u001b[0m\u001b[0mtype\u001b[0m\u001b[0;34m\u001b[0m\u001b[0;34m\u001b[0m\u001b[0m\n\u001b[1;32m    542\u001b[0m         result = self._call_chain(self.handle_open, protocol, protocol +\n\u001b[0;32m--> 543\u001b[0;31m                                   '_open', req)\n\u001b[0m\u001b[1;32m    544\u001b[0m         \u001b[0;32mif\u001b[0m \u001b[0mresult\u001b[0m\u001b[0;34m:\u001b[0m\u001b[0;34m\u001b[0m\u001b[0;34m\u001b[0m\u001b[0m\n\u001b[1;32m    545\u001b[0m             \u001b[0;32mreturn\u001b[0m \u001b[0mresult\u001b[0m\u001b[0;34m\u001b[0m\u001b[0;34m\u001b[0m\u001b[0m\n",
      "\u001b[0;32m/opt/conda/lib/python3.7/urllib/request.py\u001b[0m in \u001b[0;36m_call_chain\u001b[0;34m(self, chain, kind, meth_name, *args)\u001b[0m\n\u001b[1;32m    501\u001b[0m         \u001b[0;32mfor\u001b[0m \u001b[0mhandler\u001b[0m \u001b[0;32min\u001b[0m \u001b[0mhandlers\u001b[0m\u001b[0;34m:\u001b[0m\u001b[0;34m\u001b[0m\u001b[0;34m\u001b[0m\u001b[0m\n\u001b[1;32m    502\u001b[0m             \u001b[0mfunc\u001b[0m \u001b[0;34m=\u001b[0m \u001b[0mgetattr\u001b[0m\u001b[0;34m(\u001b[0m\u001b[0mhandler\u001b[0m\u001b[0;34m,\u001b[0m \u001b[0mmeth_name\u001b[0m\u001b[0;34m)\u001b[0m\u001b[0;34m\u001b[0m\u001b[0;34m\u001b[0m\u001b[0m\n\u001b[0;32m--> 503\u001b[0;31m             \u001b[0mresult\u001b[0m \u001b[0;34m=\u001b[0m \u001b[0mfunc\u001b[0m\u001b[0;34m(\u001b[0m\u001b[0;34m*\u001b[0m\u001b[0margs\u001b[0m\u001b[0;34m)\u001b[0m\u001b[0;34m\u001b[0m\u001b[0;34m\u001b[0m\u001b[0m\n\u001b[0m\u001b[1;32m    504\u001b[0m             \u001b[0;32mif\u001b[0m \u001b[0mresult\u001b[0m \u001b[0;32mis\u001b[0m \u001b[0;32mnot\u001b[0m \u001b[0;32mNone\u001b[0m\u001b[0;34m:\u001b[0m\u001b[0;34m\u001b[0m\u001b[0;34m\u001b[0m\u001b[0m\n\u001b[1;32m    505\u001b[0m                 \u001b[0;32mreturn\u001b[0m \u001b[0mresult\u001b[0m\u001b[0;34m\u001b[0m\u001b[0;34m\u001b[0m\u001b[0m\n",
      "\u001b[0;32m/opt/conda/lib/python3.7/urllib/request.py\u001b[0m in \u001b[0;36mhttps_open\u001b[0;34m(self, req)\u001b[0m\n\u001b[1;32m   1391\u001b[0m         \u001b[0;32mdef\u001b[0m \u001b[0mhttps_open\u001b[0m\u001b[0;34m(\u001b[0m\u001b[0mself\u001b[0m\u001b[0;34m,\u001b[0m \u001b[0mreq\u001b[0m\u001b[0;34m)\u001b[0m\u001b[0;34m:\u001b[0m\u001b[0;34m\u001b[0m\u001b[0;34m\u001b[0m\u001b[0m\n\u001b[1;32m   1392\u001b[0m             return self.do_open(http.client.HTTPSConnection, req,\n\u001b[0;32m-> 1393\u001b[0;31m                 context=self._context, check_hostname=self._check_hostname)\n\u001b[0m\u001b[1;32m   1394\u001b[0m \u001b[0;34m\u001b[0m\u001b[0m\n\u001b[1;32m   1395\u001b[0m         \u001b[0mhttps_request\u001b[0m \u001b[0;34m=\u001b[0m \u001b[0mAbstractHTTPHandler\u001b[0m\u001b[0;34m.\u001b[0m\u001b[0mdo_request_\u001b[0m\u001b[0;34m\u001b[0m\u001b[0;34m\u001b[0m\u001b[0m\n",
      "\u001b[0;32m/opt/conda/lib/python3.7/urllib/request.py\u001b[0m in \u001b[0;36mdo_open\u001b[0;34m(self, http_class, req, **http_conn_args)\u001b[0m\n\u001b[1;32m   1350\u001b[0m                           encode_chunked=req.has_header('Transfer-encoding'))\n\u001b[1;32m   1351\u001b[0m             \u001b[0;32mexcept\u001b[0m \u001b[0mOSError\u001b[0m \u001b[0;32mas\u001b[0m \u001b[0merr\u001b[0m\u001b[0;34m:\u001b[0m \u001b[0;31m# timeout error\u001b[0m\u001b[0;34m\u001b[0m\u001b[0;34m\u001b[0m\u001b[0m\n\u001b[0;32m-> 1352\u001b[0;31m                 \u001b[0;32mraise\u001b[0m \u001b[0mURLError\u001b[0m\u001b[0;34m(\u001b[0m\u001b[0merr\u001b[0m\u001b[0;34m)\u001b[0m\u001b[0;34m\u001b[0m\u001b[0;34m\u001b[0m\u001b[0m\n\u001b[0m\u001b[1;32m   1353\u001b[0m             \u001b[0mr\u001b[0m \u001b[0;34m=\u001b[0m \u001b[0mh\u001b[0m\u001b[0;34m.\u001b[0m\u001b[0mgetresponse\u001b[0m\u001b[0;34m(\u001b[0m\u001b[0;34m)\u001b[0m\u001b[0;34m\u001b[0m\u001b[0;34m\u001b[0m\u001b[0m\n\u001b[1;32m   1354\u001b[0m         \u001b[0;32mexcept\u001b[0m\u001b[0;34m:\u001b[0m\u001b[0;34m\u001b[0m\u001b[0;34m\u001b[0m\u001b[0m\n",
      "\u001b[0;31mURLError\u001b[0m: <urlopen error [Errno -3] Temporary failure in name resolution>"
     ]
    }
   ],
   "source": [
    "# Get Universal Sentence Encoder here\n",
    "# -----------------------------------\n",
    "# Note: We'll use the version from Kaggle's Models page instead.\n",
    "#       Check it out here: \n",
    "#       (https://www.kaggle.com/models/google/universal-sentence-encoder)\n",
    "# -----------------------------------\n",
    "encoder_link = 'https://kaggle.com/models/google/universal-sentence-encoder/frameworks/TensorFlow2/variations/universal-sentence-encoder/versions/2'\n",
    "# encoder_link = 'https://tfhub.dev/google/universal-sentence-encoder/4'\n",
    "\n",
    "encoder_name = 'universal_sentence_encoder'\n",
    "encoder_trainable=False # set trainable to False for inference-only \n",
    "\n",
    "encoder = get_tfhub_model(encoder_link, encoder_name, model_trainable=encoder_trainable)"
   ]
  },
  {
   "cell_type": "markdown",
   "metadata": {},
   "source": [
    "<a id='4.2'></a>\n",
    "### Build Model"
   ]
  },
  {
   "cell_type": "code",
   "execution_count": null,
   "metadata": {
    "execution": {
     "iopub.status.busy": "2025-04-09T09:19:28.298328Z",
     "iopub.status.idle": "2025-04-09T09:19:28.298904Z",
     "shell.execute_reply": "2025-04-09T09:19:28.298646Z",
     "shell.execute_reply.started": "2025-04-09T09:19:28.298618Z"
    }
   },
   "outputs": [],
   "source": [
    "def build_baseline_model(num_classes=5):\n",
    "    # Define kernel initializer & input layer\n",
    "    initializer = tf.keras.initializers.HeNormal(seed=CFG.SEED)\n",
    "    review_input = layers.Input(shape=[], dtype=tf.string, name='review_text_input')\n",
    "    \n",
    "    # Generate Embeddings\n",
    "    review_embedding = encoder(review_input)\n",
    "    \n",
    "    # Feed Embeddings to a Bidirectional LSTM\n",
    "    expand_layer = layers.Lambda(lambda embed: tf.expand_dims(embed, axis=1))(review_embedding)\n",
    "    bi_lstm = layers.Bidirectional(layers.LSTM(128, kernel_initializer=initializer), \n",
    "                                   name='bidirection_lstm')(expand_layer)\n",
    "    \n",
    "    # Feed LSTM output to classification head\n",
    "    dropout_layer = layers.Dropout(0.25)(bi_lstm)\n",
    "    dense_layer = layers.Dense(64, activation='relu', kernel_initializer=initializer)(dropout_layer)\n",
    "    output_layer = layers.Dense(num_classes, activation='softmax', \n",
    "                                kernel_initializer=initializer, \n",
    "                                name='output_layer')(dense_layer)\n",
    "    \n",
    "    return tf.keras.Model(inputs=[review_input], \n",
    "                          outputs=[output_layer], \n",
    "                          name='use_model')"
   ]
  },
  {
   "cell_type": "code",
   "execution_count": null,
   "metadata": {
    "execution": {
     "iopub.status.busy": "2025-04-09T09:19:28.300980Z",
     "iopub.status.idle": "2025-04-09T09:19:28.301374Z",
     "shell.execute_reply": "2025-04-09T09:19:28.301203Z",
     "shell.execute_reply.started": "2025-04-09T09:19:28.301185Z"
    }
   },
   "outputs": [],
   "source": [
    "# Build model\n",
    "model = build_baseline_model()\n",
    "\n",
    "# View summary of model\n",
    "model.summary()"
   ]
  },
  {
   "cell_type": "code",
   "execution_count": null,
   "metadata": {
    "execution": {
     "iopub.status.busy": "2025-04-09T09:19:28.302686Z",
     "iopub.status.idle": "2025-04-09T09:19:28.303048Z",
     "shell.execute_reply": "2025-04-09T09:19:28.302894Z",
     "shell.execute_reply.started": "2025-04-09T09:19:28.302876Z"
    }
   },
   "outputs": [],
   "source": [
    "# Explore model visually\n",
    "plot_model(\n",
    "    model, dpi=60,\n",
    "    show_shapes=True,\n",
    "    expand_nested=True\n",
    ")"
   ]
  },
  {
   "cell_type": "markdown",
   "metadata": {},
   "source": [
    "<center><div style='color:#ffffff;\n",
    "           display:inline-block;\n",
    "           padding: 5px 5px 5px 5px;\n",
    "           border-radius:5px;\n",
    "           background-color:#03e3fc;\n",
    "           font-size:100%;'><a href=#toc style='text-decoration: none; color:#03001C;'>⬆️ Back To Top</a></div></center>\n",
    "           \n",
    "<a id='5'></a>\n",
    "# 5 | Train Baseline Model\n",
    "<div style=\"padding: 4px;color:white;margin:10;font-size:200%;text-align:center;display:fill;border-radius:10px;overflow:hidden;background-image: url(https://i.postimg.cc/fTDmwnkQ/Miaka.png); background-size: 100% auto;\"></div>\n",
    "<br>\n",
    "\n",
    "To train this model we'll use Categorical Crossentropy as the loss function since this notebook approaches the problem at hand as a classification problem for multiple labels. As for the optimizer, we'll use the Adam optimizer with 0.001 as the (default) learning rate. \n",
    "\n",
    "To prevent the occurance of overfitting during training we'll have to make use of TensorFlow's Callback API to implement the EarlyStopping & ReduceLROnPlateau callbacks. The only metrics we'll track during the training of the model will be the loss and accuracy metrics.\n",
    "\n",
    "**See the following for more information:**\n",
    "> - **Categorical Crossentropy Loss Function:**\n",
    ">    - [Understanding Categorical Cross-Entropy Loss, Binary Cross-Entropy Loss, Softmax Loss, Logistic Loss, Focal Loss and all those confusing names](https://gombru.github.io/2018/05/23/cross_entropy_loss/)\n",
    ">    - [TensorFlow Categorical Crossentropy Loss Implementation](https://www.tensorflow.org/api_docs/python/tf/keras/losses/CategoricalCrossentropy)\n",
    "> - **Adam Optimizer:**\n",
    ">    - [Academic Paper | Adam: A Method for Stochastic Optimization](https://arxiv.org/abs/1412.6980)\n",
    ">     - [TensorFlow Adam Implementation](https://www.tensorflow.org/api_docs/python/tf/keras/optimizers/Adam)\n",
    "> - **TensorFlow Callback API:**\n",
    ">    - [EarlyStopping Implementation](https://www.tensorflow.org/api_docs/python/tf/keras/callbacks/EarlyStopping)\n",
    ">    - [ReduceLROnPlateau Implementation](https://www.tensorflow.org/api_docs/python/tf/keras/callbacks/ReduceLROnPlateau)\n",
    "> - **TensorFlow Metrics:**\n",
    ">    - [TensorFlow Metrics Overview](https://www.tensorflow.org/api_docs/python/tf/keras/metrics)"
   ]
  },
  {
   "cell_type": "code",
   "execution_count": null,
   "metadata": {
    "execution": {
     "iopub.status.busy": "2025-04-09T09:19:28.304140Z",
     "iopub.status.idle": "2025-04-09T09:19:28.304475Z",
     "shell.execute_reply": "2025-04-09T09:19:28.304329Z",
     "shell.execute_reply.started": "2025-04-09T09:19:28.304313Z"
    }
   },
   "outputs": [],
   "source": [
    "def train_model(model, num_epochs, callbacks_list, tf_train_data, \n",
    "                tf_valid_data=None, shuffling=False):\n",
    "    '''\n",
    "        Trains a TensorFlow model and returns a dict object containing the model metrics history data. \n",
    "        \n",
    "        @params\n",
    "        - model: (tf.keras.model) -> model to be trained \n",
    "        - num_epochs: (int) -> number of epochs to train the model\n",
    "        - callbacks_list: (list) -> list containing callback fuctions for model\n",
    "        - tf_train_data: (tf.data.Dataset) -> dataset for model to be train on \n",
    "        - tf_valid_data: (tf.data.Dataset) -> dataset for model to be validated on (default=None)\n",
    "        - shuffling: (bool) -> condition for data shuffling, data is shuffled when True (default=False)\n",
    "        \n",
    "        @returns\n",
    "        - model_history: (dict) -> dictionary containing loss and metrics values tracked during training\n",
    "    '''\n",
    "    \n",
    "    model_history = {}\n",
    "    \n",
    "    if tf_valid_data != None:\n",
    "        model_history = model.fit(tf_train_data,\n",
    "                                  epochs=num_epochs,\n",
    "                                  validation_data=tf_valid_data,\n",
    "                                  validation_steps=int(len(tf_valid_data)),\n",
    "                                  callbacks=callbacks_list,\n",
    "                                  shuffle=shuffling)\n",
    "        \n",
    "    if tf_valid_data == None:\n",
    "        model_history = model.fit(tf_train_data,\n",
    "                                  epochs=num_epochs,\n",
    "                                  callbacks=callbacks_list,\n",
    "                                  shuffle=shuffling)\n",
    "    return model_history"
   ]
  },
  {
   "cell_type": "markdown",
   "metadata": {},
   "source": [
    "<a id=5.1></a>\n",
    "### Define Callbacks and Metrics for Model Training"
   ]
  },
  {
   "cell_type": "code",
   "execution_count": null,
   "metadata": {
    "execution": {
     "iopub.status.busy": "2025-04-09T09:19:28.305817Z",
     "iopub.status.idle": "2025-04-09T09:19:28.306151Z",
     "shell.execute_reply": "2025-04-09T09:19:28.305993Z",
     "shell.execute_reply.started": "2025-04-09T09:19:28.305977Z"
    }
   },
   "outputs": [],
   "source": [
    "early_stopping_callback = tf.keras.callbacks.EarlyStopping(\n",
    "    monitor='val_loss', \n",
    "    patience=4, \n",
    "    restore_best_weights=True)\n",
    "\n",
    "reduce_lr_callback = tf.keras.callbacks.ReduceLROnPlateau(\n",
    "    monitor='val_loss',\n",
    "    patience=2,\n",
    "    factor=0.1,\n",
    "    verbose=1)\n",
    "\n",
    "CALLBACKS = [early_stopping_callback, reduce_lr_callback]\n",
    "METRICS = ['accuracy']"
   ]
  },
  {
   "cell_type": "markdown",
   "metadata": {},
   "source": [
    "<a id=5.2></a>\n",
    "### Compile & Train Model"
   ]
  },
  {
   "cell_type": "code",
   "execution_count": null,
   "metadata": {
    "execution": {
     "iopub.status.busy": "2025-04-09T09:19:28.307754Z",
     "iopub.status.idle": "2025-04-09T09:19:28.308101Z",
     "shell.execute_reply": "2025-04-09T09:19:28.307951Z",
     "shell.execute_reply.started": "2025-04-09T09:19:28.307934Z"
    }
   },
   "outputs": [],
   "source": [
    "tf.random.set_seed(CFG.SEED)\n",
    "\n",
    "model.compile(\n",
    "    loss=tf.keras.losses.CategoricalCrossentropy(label_smoothing=0.1),\n",
    "    optimizer=tf.keras.optimizers.Adam(learning_rate=0.001),\n",
    "    metrics=METRICS\n",
    ")\n",
    "\n",
    "print(f'Training {model.name}.')\n",
    "print(f'Train on {len(train_new_df)} samples, validate on {len(val_df)} samples.')\n",
    "print('----------------------------------')\n",
    "\n",
    "model_history = train_model(\n",
    "    model, CFG.EPOCHS, CALLBACKS, \n",
    "    train_ds, val_ds,\n",
    "    shuffling=False\n",
    ")"
   ]
  },
  {
   "cell_type": "code",
   "execution_count": null,
   "metadata": {
    "execution": {
     "iopub.status.busy": "2025-04-09T09:19:28.309484Z",
     "iopub.status.idle": "2025-04-09T09:19:28.309908Z",
     "shell.execute_reply": "2025-04-09T09:19:28.309747Z",
     "shell.execute_reply.started": "2025-04-09T09:19:28.309728Z"
    }
   },
   "outputs": [],
   "source": [
    "# Evaluate the model\n",
    "model_evaluation = model.evaluate(val_ds)"
   ]
  },
  {
   "cell_type": "code",
   "execution_count": null,
   "metadata": {
    "execution": {
     "iopub.status.busy": "2025-04-09T09:19:28.311833Z",
     "iopub.status.idle": "2025-04-09T09:19:28.312356Z",
     "shell.execute_reply": "2025-04-09T09:19:28.312103Z",
     "shell.execute_reply.started": "2025-04-09T09:19:28.312079Z"
    }
   },
   "outputs": [],
   "source": [
    "# Generate model probabilities and associated predictions\n",
    "train_probabilities = model.predict(train_ds, verbose=1)\n",
    "train_predictions = tf.argmax(train_probabilities, axis=1)"
   ]
  },
  {
   "cell_type": "code",
   "execution_count": null,
   "metadata": {
    "execution": {
     "iopub.status.busy": "2025-04-09T09:19:28.314538Z",
     "iopub.status.idle": "2025-04-09T09:19:28.315086Z",
     "shell.execute_reply": "2025-04-09T09:19:28.314831Z",
     "shell.execute_reply.started": "2025-04-09T09:19:28.314806Z"
    }
   },
   "outputs": [],
   "source": [
    "# Generate model probabilities and associated predictions\n",
    "val_probabilities = model.predict(val_ds, verbose=1)\n",
    "val_predictions = tf.argmax(val_probabilities, axis=1)"
   ]
  },
  {
   "cell_type": "markdown",
   "metadata": {},
   "source": [
    "<center><div style='color:#ffffff;\n",
    "           display:inline-block;\n",
    "           padding: 5px 5px 5px 5px;\n",
    "           border-radius:5px;\n",
    "           background-color:#03e3fc;\n",
    "           font-size:100%;'><a href=#toc style='text-decoration: none; color:#03001C;'>⬆️ Back To Top</a></div></center>\n",
    "           \n",
    "<a id='6'></a>\n",
    "# 6 | Model Performance Evaluation\n",
    "<div style=\"padding: 4px;color:white;margin:10;font-size:200%;text-align:center;display:fill;border-radius:10px;overflow:hidden;background-image: url(https://i.postimg.cc/fTDmwnkQ/Miaka.png); background-size: 100% auto;\"></div>\n",
    "<br>\n",
    "\n",
    "Now that the model has trained on the data we need to inspect how well it performs on the validation data. In order to conduct this inspection we need to evaluate the performance of the model on the validation data and record evaluation metrics. Since the approach for this problem is a multi classification problem we'll make use of some well known classification metrics. Hence, we'll make use of the Scikit Learn library to inspect the model. We'll also use the following to inspect the model:\n",
    "\n",
    "> - [Classification Report](https://scikit-learn.org/stable/modules/generated/sklearn.metrics.classification_report.html#sklearn.metrics.classification_report)\n",
    "> - [Accuracy Score](https://scikit-learn.org/stable/modules/generated/sklearn.metrics.accuracy_score.html#sklearn.metrics.accuracy_score)\n",
    "> - [Precision](https://scikit-learn.org/stable/modules/generated/sklearn.metrics.precision_score.html#sklearn.metrics.precision_score)\n",
    "> - [Recall](https://scikit-learn.org/stable/modules/generated/sklearn.metrics.recall_score.html#sklearn.metrics.recall_score)\n",
    "> - [F1-score](https://scikit-learn.org/stable/modules/generated/sklearn.metrics.f1_score.html#sklearn.metrics.f1_score) \n",
    "> - [Matthews Correlation Coefficient](https://scikit-learn.org/stable/modules/generated/sklearn.metrics.matthews_corrcoef.html)"
   ]
  },
  {
   "cell_type": "markdown",
   "metadata": {},
   "source": [
    "<a id='6.1'></a>\n",
    "### Plot Model Training History"
   ]
  },
  {
   "cell_type": "code",
   "execution_count": null,
   "metadata": {
    "execution": {
     "iopub.status.busy": "2025-04-09T09:19:28.316788Z",
     "iopub.status.idle": "2025-04-09T09:19:28.317123Z",
     "shell.execute_reply": "2025-04-09T09:19:28.316974Z",
     "shell.execute_reply.started": "2025-04-09T09:19:28.316958Z"
    }
   },
   "outputs": [],
   "source": [
    "def plot_training_curves(history):\n",
    "    \n",
    "    loss = np.array(history.history['loss'])\n",
    "    val_loss = np.array(history.history['val_loss'])\n",
    "\n",
    "    accuracy = np.array(history.history['accuracy'])\n",
    "    val_accuracy = np.array(history.history['val_accuracy'])\n",
    "\n",
    "    epochs = range(len(history.history['loss']))\n",
    "\n",
    "    fig, (ax1, ax2) = plt.subplots(1, 2, figsize=(20, 10))\n",
    "\n",
    "    # Plot loss\n",
    "    ax1.plot(epochs, loss, label='training_loss', marker='o')\n",
    "    ax1.plot(epochs, val_loss, label='val_loss', marker='o')\n",
    "    \n",
    "    ax1.fill_between(epochs, loss, val_loss, where=(loss > val_loss), color='C0', alpha=0.3, interpolate=True)\n",
    "    ax1.fill_between(epochs, loss, val_loss, where=(loss < val_loss), color='C1', alpha=0.3, interpolate=True)\n",
    "\n",
    "    ax1.set_title('Loss (Lower Means Better)', fontsize=16)\n",
    "    ax1.set_xlabel('Epochs', fontsize=14)\n",
    "    ax1.legend()\n",
    "    sns.despine();\n",
    "\n",
    "    # Plot accuracy\n",
    "    ax2.plot(epochs, accuracy, label='training_accuracy', marker='o')\n",
    "    ax2.plot(epochs, val_accuracy, label='val_accuracy', marker='o')\n",
    "    \n",
    "    ax2.fill_between(epochs, accuracy, val_accuracy, where=(accuracy > val_accuracy), color='C0', alpha=0.3, interpolate=True)\n",
    "    ax2.fill_between(epochs, accuracy, val_accuracy, where=(accuracy < val_accuracy), color='C1', alpha=0.3, interpolate=True)\n",
    "\n",
    "    ax2.set_title('Accuracy (Higher Means Better)', fontsize=16)\n",
    "    ax2.set_xlabel('Epochs', fontsize=14)\n",
    "    ax2.legend();\n",
    "    sns.despine();"
   ]
  },
  {
   "cell_type": "code",
   "execution_count": null,
   "metadata": {
    "execution": {
     "iopub.status.busy": "2025-04-09T09:19:28.318258Z",
     "iopub.status.idle": "2025-04-09T09:19:28.318640Z",
     "shell.execute_reply": "2025-04-09T09:19:28.318443Z",
     "shell.execute_reply.started": "2025-04-09T09:19:28.318427Z"
    }
   },
   "outputs": [],
   "source": [
    "# plot model training history \n",
    "plot_training_curves(model_history)"
   ]
  },
  {
   "cell_type": "markdown",
   "metadata": {},
   "source": [
    "<div class=\"alert alert-block alert-info\">\n",
    "<br>\n",
    "We observe that overfitting may have occured during the first few expochs. We also observe that the model reached a plateau on the validation loss.\n",
    "</div>"
   ]
  },
  {
   "cell_type": "markdown",
   "metadata": {},
   "source": [
    "<a id='6.2'></a>\n",
    "### Plot Confusion Matrix"
   ]
  },
  {
   "cell_type": "code",
   "execution_count": null,
   "metadata": {
    "execution": {
     "iopub.status.busy": "2025-04-09T09:19:28.320521Z",
     "iopub.status.idle": "2025-04-09T09:19:28.321068Z",
     "shell.execute_reply": "2025-04-09T09:19:28.320821Z",
     "shell.execute_reply.started": "2025-04-09T09:19:28.320795Z"
    }
   },
   "outputs": [],
   "source": [
    "def plot_confusion_matrix(y_true, y_pred, classes='auto', figsize=(10, 10), text_size=12): \n",
    "    # Generate confusion matrix \n",
    "    cm = confusion_matrix(y_true, y_pred)\n",
    "    \n",
    "    # Set plot size\n",
    "    plt.figure(figsize=figsize)\n",
    "\n",
    "    # Create confusion matrix heatmap\n",
    "    disp = sns.heatmap(\n",
    "        cm, annot=True, cmap='Greens',\n",
    "        annot_kws={\"size\": text_size}, fmt='g',\n",
    "        linewidths=1, linecolor='black', clip_on=False,\n",
    "        xticklabels=classes, yticklabels=classes)\n",
    "    \n",
    "    # Set title and axis labels\n",
    "    disp.set_title('Confusion Matrix', fontsize=24)\n",
    "    disp.set_xlabel('Predicted Label', fontsize=20) \n",
    "    disp.set_ylabel('True Label', fontsize=20)\n",
    "    plt.yticks(rotation=0) \n",
    "\n",
    "    # Plot confusion matrix\n",
    "    plt.show()\n",
    "    \n",
    "    return"
   ]
  },
  {
   "cell_type": "code",
   "execution_count": null,
   "metadata": {
    "execution": {
     "iopub.status.busy": "2025-04-09T09:19:28.323133Z",
     "iopub.status.idle": "2025-04-09T09:19:28.323487Z",
     "shell.execute_reply": "2025-04-09T09:19:28.323328Z",
     "shell.execute_reply.started": "2025-04-09T09:19:28.323311Z"
    }
   },
   "outputs": [],
   "source": [
    "plot_confusion_matrix(\n",
    "    val_df.Rating - 1, \n",
    "    val_predictions, \n",
    "    figsize=(10, 10))"
   ]
  },
  {
   "cell_type": "markdown",
   "metadata": {},
   "source": [
    "<div class=\"alert alert-block alert-info\">\n",
    "<br>\n",
    "The model is able to classify the majority classes. However, the characteristics of a severly imbalanced dataset is present as the model struggles with predicting the minority classes.\n",
    "</div>"
   ]
  },
  {
   "cell_type": "markdown",
   "metadata": {},
   "source": [
    "<a id='6.3'></a>\n",
    "### Generate Classification Report"
   ]
  },
  {
   "cell_type": "code",
   "execution_count": null,
   "metadata": {
    "execution": {
     "iopub.status.busy": "2025-04-09T09:19:28.324678Z",
     "iopub.status.idle": "2025-04-09T09:19:28.325051Z",
     "shell.execute_reply": "2025-04-09T09:19:28.324892Z",
     "shell.execute_reply.started": "2025-04-09T09:19:28.324874Z"
    }
   },
   "outputs": [],
   "source": [
    "print(classification_report(val_df.Rating - 1, val_predictions))"
   ]
  },
  {
   "cell_type": "markdown",
   "metadata": {},
   "source": [
    "<a id='6.4'></a>\n",
    "### Record Classification Metrics"
   ]
  },
  {
   "cell_type": "code",
   "execution_count": null,
   "metadata": {
    "execution": {
     "iopub.status.busy": "2025-04-09T09:19:28.326406Z",
     "iopub.status.idle": "2025-04-09T09:19:28.326804Z",
     "shell.execute_reply": "2025-04-09T09:19:28.326645Z",
     "shell.execute_reply.started": "2025-04-09T09:19:28.326626Z"
    }
   },
   "outputs": [],
   "source": [
    "def generate_preformance_scores(y_true, y_pred, y_probabilities):\n",
    "    \n",
    "    model_accuracy = accuracy_score(y_true, y_pred)\n",
    "    top_2_accuracy = top_k_accuracy_score(y_true, y_probabilities, k=2)\n",
    "    model_precision, model_recall, model_f1, _ = precision_recall_fscore_support(y_true, \n",
    "                                                                                 y_pred, \n",
    "                                                                                 average=\"weighted\")\n",
    "    model_matthews_corrcoef = matthews_corrcoef(y_true, y_pred)\n",
    "    \n",
    "    print('=============================================')\n",
    "    print(f'\\nPerformance Metrics:\\n')\n",
    "    print('=============================================')\n",
    "    print(f'accuracy_score:\\t\\t{model_accuracy:.5f}\\n')\n",
    "    print('_____________________________________________')\n",
    "    print(f'top_2_accuracy_score:\\t{top_2_accuracy:.5f}\\n')\n",
    "    print('_____________________________________________')\n",
    "    print(f'precision_score:\\t{model_precision:.5f}\\n')\n",
    "    print('_____________________________________________')\n",
    "    print(f'recall_score:\\t\\t{model_recall:.5f}\\n')\n",
    "    print('_____________________________________________')\n",
    "    print(f'f1_score:\\t\\t{model_f1:.5f}\\n')\n",
    "    print('_____________________________________________')\n",
    "    print(f'matthews_corrcoef:\\t{model_matthews_corrcoef:.5f}\\n')\n",
    "    print('=============================================')\n",
    "    \n",
    "    preformance_scores = {\n",
    "        'accuracy_score': model_accuracy,\n",
    "        'top_2_accuracy_score': top_2_accuracy,\n",
    "        'precision_score': model_precision,\n",
    "        'recall_score': model_recall,\n",
    "        'f1_score': model_f1,\n",
    "        'matthews_corrcoef': model_matthews_corrcoef\n",
    "    }\n",
    "    \n",
    "    return preformance_scores"
   ]
  },
  {
   "cell_type": "code",
   "execution_count": null,
   "metadata": {
    "execution": {
     "iopub.status.busy": "2025-04-09T09:19:28.327864Z",
     "iopub.status.idle": "2025-04-09T09:19:28.328185Z",
     "shell.execute_reply": "2025-04-09T09:19:28.328041Z",
     "shell.execute_reply.started": "2025-04-09T09:19:28.328026Z"
    }
   },
   "outputs": [],
   "source": [
    "model_performance = generate_preformance_scores(val_df.Rating-1, val_predictions, val_probabilities)"
   ]
  },
  {
   "cell_type": "code",
   "execution_count": null,
   "metadata": {
    "execution": {
     "iopub.status.busy": "2025-04-09T09:19:28.330548Z",
     "iopub.status.idle": "2025-04-09T09:19:28.330961Z",
     "shell.execute_reply": "2025-04-09T09:19:28.330803Z",
     "shell.execute_reply.started": "2025-04-09T09:19:28.330784Z"
    }
   },
   "outputs": [],
   "source": [
    "# Inspect Competition Metric: Mean-Absolute-Error\n",
    "print('Competition Metric Score')\n",
    "print('=========================')\n",
    "print(f'Train MAE:\\t{mean_absolute_error(train_new_df.rating_encoded, train_predictions):.5f}')\n",
    "print(f'Validation MAE:\\t{mean_absolute_error(val_df.rating_encoded, val_predictions):.5f}')\n",
    "print('=========================')"
   ]
  },
  {
   "cell_type": "code",
   "execution_count": null,
   "metadata": {
    "execution": {
     "iopub.status.busy": "2025-04-09T09:19:28.332184Z",
     "iopub.status.idle": "2025-04-09T09:19:28.332558Z",
     "shell.execute_reply": "2025-04-09T09:19:28.332398Z",
     "shell.execute_reply.started": "2025-04-09T09:19:28.332381Z"
    }
   },
   "outputs": [],
   "source": [
    "def predict(model, test_reviews):\n",
    "    probabilities = model.predict(test_reviews, verbose=1)\n",
    "    predictions = tf.argmax(probabilities, axis=1)\n",
    "    return probabilities, predictions"
   ]
  },
  {
   "cell_type": "code",
   "execution_count": null,
   "metadata": {
    "execution": {
     "iopub.status.busy": "2025-04-09T09:19:28.334899Z",
     "iopub.status.idle": "2025-04-09T09:19:28.335231Z",
     "shell.execute_reply": "2025-04-09T09:19:28.335086Z",
     "shell.execute_reply.started": "2025-04-09T09:19:28.335070Z"
    }
   },
   "outputs": [],
   "source": [
    "# Preprocess Test Reviews\n",
    "test_reviews = test_df['Review'].apply(text_preprocessor)\n",
    "test_reviews.shape"
   ]
  },
  {
   "cell_type": "markdown",
   "metadata": {},
   "source": [
    "<a id='7.2'></a>\n",
    "### Generate Test Predictions"
   ]
  },
  {
   "cell_type": "code",
   "execution_count": null,
   "metadata": {
    "execution": {
     "iopub.status.busy": "2025-04-09T09:19:28.336303Z",
     "iopub.status.idle": "2025-04-09T09:19:28.336728Z",
     "shell.execute_reply": "2025-04-09T09:19:28.336519Z",
     "shell.execute_reply.started": "2025-04-09T09:19:28.336501Z"
    }
   },
   "outputs": [],
   "source": [
    "# Generate Test Predictions\n",
    "test_probabilities, test_predictions = predict(model, test_reviews)"
   ]
  },
  {
   "cell_type": "markdown",
   "metadata": {},
   "source": [
    "<a id='7.3'></a>"
   ]
  },
  {
   "cell_type": "code",
   "execution_count": null,
   "metadata": {
    "execution": {
     "iopub.status.busy": "2025-04-09T09:19:28.337789Z",
     "iopub.status.idle": "2025-04-09T09:19:28.338119Z",
     "shell.execute_reply": "2025-04-09T09:19:28.337972Z",
     "shell.execute_reply.started": "2025-04-09T09:19:28.337957Z"
    }
   },
   "outputs": [],
   "source": [
    "# Use the sample_subission dataframe to create the\n",
    "# submission csv for the test set predictions\n",
    "submission_df['Rating'] = test_predictions + 1 # Decode labels \n",
    "\n",
    "# View first 5 submission samples \n",
    "submission_df.head(5)"
   ]
  },
  {
   "cell_type": "code",
   "execution_count": null,
   "metadata": {
    "execution": {
     "iopub.status.busy": "2025-04-09T09:19:28.340343Z",
     "iopub.status.idle": "2025-04-09T09:19:28.340760Z",
     "shell.execute_reply": "2025-04-09T09:19:28.340536Z",
     "shell.execute_reply.started": "2025-04-09T09:19:28.340520Z"
    }
   },
   "outputs": [],
   "source": [
    "# View Test Predictions Ratings Distribution\n",
    "plt.figure(figsize=(14, 8))\n",
    "plt.title('Test Prediction Ratings Distribution', fontsize=20)\n",
    "test_predictions_distribution = submission_df['Rating'].value_counts().sort_values()\n",
    "\n",
    "sns.barplot(x=test_predictions_distribution.values,\n",
    "            y=list(test_predictions_distribution.keys()),\n",
    "            orient=\"h\");\n",
    "sns.despine();"
   ]
  },
  {
   "cell_type": "markdown",
   "metadata": {},
   "source": [
    "<a id='7.4'></a>\n",
    "### Generate Submission.csv"
   ]
  },
  {
   "cell_type": "code",
   "execution_count": null,
   "metadata": {
    "execution": {
     "iopub.status.busy": "2025-04-09T09:19:28.342215Z",
     "iopub.status.idle": "2025-04-09T09:19:28.342574Z",
     "shell.execute_reply": "2025-04-09T09:19:28.342414Z",
     "shell.execute_reply.started": "2025-04-09T09:19:28.342398Z"
    }
   },
   "outputs": [],
   "source": [
    "# Create submission csv\n",
    "submission_df.to_csv('submission.csv', index=False)"
   ]
  },
  {
   "cell_type": "markdown",
   "metadata": {},
   "source": [
    "### Get Session Info (Package Requirements)"
   ]
  },
  {
   "cell_type": "code",
   "execution_count": null,
   "metadata": {
    "execution": {
     "iopub.status.busy": "2025-04-09T09:19:28.343770Z",
     "iopub.status.idle": "2025-04-09T09:19:28.344300Z",
     "shell.execute_reply": "2025-04-09T09:19:28.344041Z",
     "shell.execute_reply.started": "2025-04-09T09:19:28.344016Z"
    }
   },
   "outputs": [],
   "source": [
    "! pip -q install session_info"
   ]
  },
  {
   "cell_type": "code",
   "execution_count": null,
   "metadata": {
    "execution": {
     "iopub.status.busy": "2025-04-09T09:19:28.345441Z",
     "iopub.status.idle": "2025-04-09T09:19:28.345824Z",
     "shell.execute_reply": "2025-04-09T09:19:28.345664Z",
     "shell.execute_reply.started": "2025-04-09T09:19:28.345646Z"
    }
   },
   "outputs": [],
   "source": [
    "import session_info\n",
    "session_info.show(html=False)"
   ]
  }
 ],
 "metadata": {
  "kaggle": {
   "accelerator": "none",
   "dataSources": [
    {
     "databundleVersionId": 5019370,
     "sourceId": 46986,
     "sourceType": "competition"
    },
    {
     "modelId": 191,
     "modelInstanceId": 1265,
     "sourceId": 1497,
     "sourceType": "modelInstanceVersion"
    }
   ],
   "dockerImageVersionId": 30380,
   "isGpuEnabled": false,
   "isInternetEnabled": false,
   "language": "python",
   "sourceType": "notebook"
  },
  "kernelspec": {
   "display_name": "Python [conda env:base] *",
   "language": "python",
   "name": "conda-base-py"
  },
  "language_info": {
   "codemirror_mode": {
    "name": "ipython",
    "version": 3
   },
   "file_extension": ".py",
   "mimetype": "text/x-python",
   "name": "python",
   "nbconvert_exporter": "python",
   "pygments_lexer": "ipython3",
   "version": "3.11.7"
  }
 },
 "nbformat": 4,
 "nbformat_minor": 4
}
